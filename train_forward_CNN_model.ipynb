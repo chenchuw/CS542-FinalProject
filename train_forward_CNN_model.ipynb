{
 "cells": [
  {
   "cell_type": "markdown",
   "id": "dd897f2b",
   "metadata": {},
   "source": [
    "# Packages"
   ]
  },
  {
   "cell_type": "code",
   "execution_count": 4,
   "id": "b119aba8",
   "metadata": {},
   "outputs": [
    {
     "name": "stdout",
     "output_type": "stream",
     "text": [
      "Requirement already satisfied: lime in /Users/xiaoweige/opt/anaconda3/lib/python3.8/site-packages (0.2.0.1)\n",
      "Requirement already satisfied: matplotlib in /Users/xiaoweige/opt/anaconda3/lib/python3.8/site-packages (from lime) (3.5.2)\n",
      "Requirement already satisfied: numpy in /Users/xiaoweige/opt/anaconda3/lib/python3.8/site-packages (from lime) (1.20.1)\n",
      "Requirement already satisfied: scipy in /Users/xiaoweige/opt/anaconda3/lib/python3.8/site-packages (from lime) (1.6.2)\n",
      "Requirement already satisfied: scikit-image>=0.12 in /Users/xiaoweige/opt/anaconda3/lib/python3.8/site-packages (from lime) (0.18.1)\n",
      "Requirement already satisfied: tqdm in /Users/xiaoweige/opt/anaconda3/lib/python3.8/site-packages (from lime) (4.59.0)\n",
      "Requirement already satisfied: scikit-learn>=0.18 in /Users/xiaoweige/opt/anaconda3/lib/python3.8/site-packages (from lime) (0.24.1)\n",
      "Requirement already satisfied: networkx>=2.0 in /Users/xiaoweige/opt/anaconda3/lib/python3.8/site-packages (from scikit-image>=0.12->lime) (2.5)\n",
      "Requirement already satisfied: pillow!=7.1.0,!=7.1.1,>=4.3.0 in /Users/xiaoweige/opt/anaconda3/lib/python3.8/site-packages (from scikit-image>=0.12->lime) (8.2.0)\n",
      "Requirement already satisfied: imageio>=2.3.0 in /Users/xiaoweige/opt/anaconda3/lib/python3.8/site-packages (from scikit-image>=0.12->lime) (2.9.0)\n",
      "Requirement already satisfied: tifffile>=2019.7.26 in /Users/xiaoweige/opt/anaconda3/lib/python3.8/site-packages (from scikit-image>=0.12->lime) (2020.10.1)\n",
      "Requirement already satisfied: PyWavelets>=1.1.1 in /Users/xiaoweige/opt/anaconda3/lib/python3.8/site-packages (from scikit-image>=0.12->lime) (1.1.1)\n",
      "Requirement already satisfied: fonttools>=4.22.0 in /Users/xiaoweige/opt/anaconda3/lib/python3.8/site-packages (from matplotlib->lime) (4.33.3)\n",
      "Requirement already satisfied: cycler>=0.10 in /Users/xiaoweige/opt/anaconda3/lib/python3.8/site-packages (from matplotlib->lime) (0.10.0)\n",
      "Requirement already satisfied: kiwisolver>=1.0.1 in /Users/xiaoweige/opt/anaconda3/lib/python3.8/site-packages (from matplotlib->lime) (1.3.1)\n",
      "Requirement already satisfied: pyparsing>=2.2.1 in /Users/xiaoweige/opt/anaconda3/lib/python3.8/site-packages (from matplotlib->lime) (2.4.7)\n",
      "Requirement already satisfied: packaging>=20.0 in /Users/xiaoweige/opt/anaconda3/lib/python3.8/site-packages (from matplotlib->lime) (20.9)\n",
      "Requirement already satisfied: python-dateutil>=2.7 in /Users/xiaoweige/opt/anaconda3/lib/python3.8/site-packages (from matplotlib->lime) (2.8.1)\n",
      "Requirement already satisfied: six in /Users/xiaoweige/opt/anaconda3/lib/python3.8/site-packages (from cycler>=0.10->matplotlib->lime) (1.15.0)\n",
      "Requirement already satisfied: decorator>=4.3.0 in /Users/xiaoweige/opt/anaconda3/lib/python3.8/site-packages (from networkx>=2.0->scikit-image>=0.12->lime) (5.0.6)\n",
      "Requirement already satisfied: threadpoolctl>=2.0.0 in /Users/xiaoweige/opt/anaconda3/lib/python3.8/site-packages (from scikit-learn>=0.18->lime) (2.1.0)\n",
      "Requirement already satisfied: joblib>=0.11 in /Users/xiaoweige/opt/anaconda3/lib/python3.8/site-packages (from scikit-learn>=0.18->lime) (1.0.1)\n"
     ]
    }
   ],
   "source": [
    "!pip install lime\n",
    "# basic packages\n",
    "from time import time\n",
    "\n",
    "# basic data processing packages\n",
    "import numpy as np\n",
    "from numpy import random\n",
    "import pandas as pd\n",
    "\n",
    "# plotting packages\n",
    "import matplotlib.pyplot as plt\n",
    "import seaborn as sns\n",
    "from sklearn.metrics import confusion_matrix\n",
    "\n",
    "# machine learning packages\n",
    "import torch\n",
    "import torch.nn as nn\n",
    "import torch.nn.functional as F\n",
    "import torch.optim as optim\n",
    "import os, json\n",
    "import torchvision\n",
    "from torchvision import models, transforms\n",
    "from torch.autograd import Variable\n",
    "\n",
    "# LIME packages\n",
    "import lime\n",
    "from lime import lime_image\n",
    "\n"
   ]
  },
  {
   "cell_type": "markdown",
   "id": "7b1d4761",
   "metadata": {},
   "source": [
    "# Predefined functions"
   ]
  },
  {
   "cell_type": "code",
   "execution_count": 5,
   "id": "fac8cb2f",
   "metadata": {},
   "outputs": [],
   "source": [
    "def single_img_plot(X,y=10):\n",
    "#     X = np.reshape(X, (28,28))\n",
    "    plt.imshow(X)\n",
    "    plt.colorbar()\n",
    "    plt.title('MNIST random check, label %d' %y)\n",
    "    plt.show()"
   ]
  },
  {
   "cell_type": "markdown",
   "id": "91a61ef6",
   "metadata": {},
   "source": [
    "## Build simple neural network using pytorch on MNIST"
   ]
  },
  {
   "cell_type": "code",
   "execution_count": 6,
   "id": "8167295f",
   "metadata": {},
   "outputs": [
    {
     "data": {
      "text/plain": [
       "<torch._C.Generator at 0x7f7b24f42250>"
      ]
     },
     "execution_count": 6,
     "metadata": {},
     "output_type": "execute_result"
    }
   ],
   "source": [
    "# n_epochs = 1\n",
    "batch_size_train = 64\n",
    "batch_size_test = 1000\n",
    "learning_rate = 0.01\n",
    "momentum = 0.5\n",
    "log_interval = 10\n",
    "\n",
    "random_seed = 1\n",
    "torch.backends.cudnn.enabled = False\n",
    "torch.manual_seed(random_seed)"
   ]
  },
  {
   "cell_type": "markdown",
   "id": "7a127b3f",
   "metadata": {},
   "source": [
    "### Use Pytorch data loader to load MNIST data"
   ]
  },
  {
   "cell_type": "code",
   "execution_count": 7,
   "id": "c5fc3d8d",
   "metadata": {},
   "outputs": [],
   "source": [
    "# download and transform train dataset\n",
    "\n",
    "from torchvision import datasets, transforms\n",
    "from torch.autograd import Variable\n",
    "\n",
    "train_loader = torch.utils.data.DataLoader(datasets.MNIST(root = './', \n",
    "                                                          download=True, \n",
    "                                                          train=True,\n",
    "                                                          transform=transforms.Compose([\n",
    "                                                              transforms.ToTensor(), # first, convert image to PyTorch tensor\n",
    "                                                              transforms.Normalize((0.1307,), (0.3081,)) # normalize inputs\n",
    "                                                          ])), \n",
    "                                           batch_size=batch_size_train,\n",
    "                                           shuffle=True)\n",
    "\n",
    "\n",
    "test_loader = torch.utils.data.DataLoader(datasets.MNIST(root = './', \n",
    "                                                          download=True, \n",
    "                                                          train=False,\n",
    "                                                          transform=transforms.Compose([\n",
    "                                                              transforms.ToTensor(), # first, convert image to PyTorch tensor\n",
    "                                                              transforms.Normalize((0.1307,), (0.3081,)) # normalize inputs\n",
    "                                                          ])), \n",
    "                                           batch_size=batch_size_test,\n",
    "                                           shuffle=True)\n",
    "\n",
    "\n"
   ]
  },
  {
   "cell_type": "markdown",
   "id": "aebd5e96",
   "metadata": {},
   "source": [
    "### Data check plot"
   ]
  },
  {
   "cell_type": "code",
   "execution_count": 8,
   "id": "7703c19a",
   "metadata": {},
   "outputs": [
    {
     "name": "stdout",
     "output_type": "stream",
     "text": [
      "Output tensor size check:  torch.Size([64, 1, 28, 28])\n"
     ]
    }
   ],
   "source": [
    "examples = enumerate(train_loader)\n",
    "batch_idx, (example_data, example_targets) = next(examples)\n",
    "print('Output tensor size check: ', example_data.shape)"
   ]
  },
  {
   "cell_type": "code",
   "execution_count": 9,
   "id": "62d715bc",
   "metadata": {
    "scrolled": true
   },
   "outputs": [
    {
     "data": {
      "image/png": "[encoded data removed]",
      "text/plain": [
       "<Figure size 432x288 with 4 Axes>"
      ]
     },
     "metadata": {},
     "output_type": "display_data"
    }
   ],
   "source": [
    "fig = plt.figure()\n",
    "for i in range(4):\n",
    "    idx_rand = random.randint(len(example_data))\n",
    "    plt.subplot(1,4,i+1)\n",
    "    plt.tight_layout()\n",
    "    plt.imshow(example_data[idx_rand][0], cmap='gray', interpolation='none')\n",
    "    plt.title(\"Ground Truth: {}\".format(example_targets[idx_rand]))\n",
    "    plt.xticks([])\n",
    "    plt.yticks([])\n"
   ]
  },
  {
   "cell_type": "markdown",
   "id": "e4380dc0",
   "metadata": {},
   "source": [
    "### Build 2D CNN + 2 fully connected layer networks"
   ]
  },
  {
   "cell_type": "code",
   "execution_count": 10,
   "id": "30a51143",
   "metadata": {},
   "outputs": [],
   "source": [
    "class Net(nn.Module):\n",
    "    def __init__(self):\n",
    "        super(Net, self).__init__()\n",
    "        self.conv1 = nn.Conv2d(1, 10, kernel_size=5)\n",
    "        self.conv2 = nn.Conv2d(10, 20, kernel_size=5)\n",
    "        self.conv2_drop = nn.Dropout2d()\n",
    "        self.fc1 = nn.Linear(320, 50)\n",
    "        self.fc2 = nn.Linear(50, 10)\n",
    "\n",
    "    def forward(self, x):\n",
    "        x = F.relu(F.max_pool2d(self.conv1(x), 2))\n",
    "        x = F.relu(F.max_pool2d(self.conv2_drop(self.conv2(x)), 2))\n",
    "        x = x.view(-1, 320)\n",
    "        x = F.relu(self.fc1(x))\n",
    "        x = F.dropout(x, training=self.training)\n",
    "        x = self.fc2(x)\n",
    "        return F.log_softmax(x)"
   ]
  },
  {
   "cell_type": "code",
   "execution_count": 11,
   "id": "34829eb7",
   "metadata": {},
   "outputs": [],
   "source": [
    "network = Net()\n",
    "optimizer = optim.SGD(network.parameters(), lr=learning_rate,\n",
    "                      momentum=momentum)"
   ]
  },
  {
   "cell_type": "markdown",
   "id": "ac8a9a1f",
   "metadata": {},
   "source": [
    "### Train the model"
   ]
  },
  {
   "cell_type": "code",
   "execution_count": 12,
   "id": "4737a9c1",
   "metadata": {},
   "outputs": [],
   "source": [
    "def train(epoch):\n",
    "  network.train()\n",
    "  for batch_idx, (data, target) in enumerate(train_loader):\n",
    "    optimizer.zero_grad()\n",
    "    output = network(data)\n",
    "    loss = F.nll_loss(output, target)\n",
    "    loss.backward()\n",
    "    optimizer.step()\n",
    "    if batch_idx % log_interval == 0:\n",
    "      print('Train Epoch: {} [{}/{} ({:.0f}%)]\\tLoss: {:.6f}'.format(\n",
    "        epoch, batch_idx * len(data), len(train_loader.dataset),\n",
    "        100. * batch_idx / len(train_loader), loss.item()))\n",
    "      train_losses.append(loss.item())\n",
    "      train_counter.append(\n",
    "        (batch_idx*64) + ((epoch-1)*len(train_loader.dataset)))\n",
    "      torch.save(network.state_dict(), './results/model.pth')\n",
    "      torch.save(optimizer.state_dict(), './results/optimizer.pth')"
   ]
  },
  {
   "cell_type": "code",
   "execution_count": 13,
   "id": "05658f93",
   "metadata": {},
   "outputs": [],
   "source": [
    "def test():\n",
    "  network.eval()\n",
    "  test_loss = 0\n",
    "  correct = 0\n",
    "  with torch.no_grad():\n",
    "    for data, target in test_loader:\n",
    "      output = network(data)\n",
    "      test_loss += F.nll_loss(output, target, size_average=False).item()\n",
    "      pred = output.data.max(1, keepdim=True)[1]\n",
    "      correct += pred.eq(target.data.view_as(pred)).sum()\n",
    "  test_loss /= len(test_loader.dataset)\n",
    "  test_losses.append(test_loss)\n",
    "  print('\\nTest set: Avg. loss: {:.4f}, Accuracy: {}/{} ({:.0f}%)\\n'.format(\n",
    "    test_loss, correct, len(test_loader.dataset),\n",
    "    100. * correct / len(test_loader.dataset)))"
   ]
  },
  {
   "cell_type": "code",
   "execution_count": 19,
   "id": "85eb69f3",
   "metadata": {},
   "outputs": [],
   "source": [
    "n_epochs = 3\n",
    "network = Net()\n",
    "optimizer = optim.SGD(network.parameters(), lr=learning_rate,\n",
    "                      momentum=momentum)\n",
    "\n",
    "train_losses = []\n",
    "train_counter = []\n",
    "test_losses = []\n",
    "test_counter = [i*len(train_loader.dataset) for i in range(n_epochs + 1)]"
   ]
  },
  {
   "cell_type": "code",
   "execution_count": 20,
   "id": "74003f24",
   "metadata": {},
   "outputs": [
    {
     "name": "stderr",
     "output_type": "stream",
     "text": [
      "<ipython-input-10-6c2218f37724>:17: UserWarning: Implicit dimension choice for log_softmax has been deprecated. Change the call to include dim=X as an argument.\n",
      "  return F.log_softmax(x)\n"
     ]
    },
    {
     "name": "stdout",
     "output_type": "stream",
     "text": [
      "\n",
      "Test set: Avg. loss: 2.3096, Accuracy: 878/10000 (9%)\n",
      "\n",
      "Train Epoch: 1 [0/60000 (0%)]\tLoss: 2.305269\n",
      "Train Epoch: 1 [640/60000 (1%)]\tLoss: 2.333261\n",
      "Train Epoch: 1 [1280/60000 (2%)]\tLoss: 2.282181\n",
      "Train Epoch: 1 [1920/60000 (3%)]\tLoss: 2.278837\n",
      "Train Epoch: 1 [2560/60000 (4%)]\tLoss: 2.263226\n",
      "Train Epoch: 1 [3200/60000 (5%)]\tLoss: 2.221581\n",
      "Train Epoch: 1 [3840/60000 (6%)]\tLoss: 2.148164\n",
      "Train Epoch: 1 [4480/60000 (7%)]\tLoss: 2.164507\n",
      "Train Epoch: 1 [5120/60000 (9%)]\tLoss: 2.025093\n",
      "Train Epoch: 1 [5760/60000 (10%)]\tLoss: 1.938628\n",
      "Train Epoch: 1 [6400/60000 (11%)]\tLoss: 1.887480\n",
      "Train Epoch: 1 [7040/60000 (12%)]\tLoss: 1.821410\n",
      "Train Epoch: 1 [7680/60000 (13%)]\tLoss: 1.778605\n",
      "Train Epoch: 1 [8320/60000 (14%)]\tLoss: 1.430497\n",
      "Train Epoch: 1 [8960/60000 (15%)]\tLoss: 1.503655\n",
      "Train Epoch: 1 [9600/60000 (16%)]\tLoss: 1.499454\n",
      "Train Epoch: 1 [10240/60000 (17%)]\tLoss: 1.547232\n",
      "Train Epoch: 1 [10880/60000 (18%)]\tLoss: 1.375607\n",
      "Train Epoch: 1 [11520/60000 (19%)]\tLoss: 1.065667\n",
      "Train Epoch: 1 [12160/60000 (20%)]\tLoss: 1.154009\n",
      "Train Epoch: 1 [12800/60000 (21%)]\tLoss: 1.300667\n",
      "Train Epoch: 1 [13440/60000 (22%)]\tLoss: 1.086507\n",
      "Train Epoch: 1 [14080/60000 (23%)]\tLoss: 0.950037\n",
      "Train Epoch: 1 [14720/60000 (25%)]\tLoss: 0.962841\n",
      "Train Epoch: 1 [15360/60000 (26%)]\tLoss: 0.958690\n",
      "Train Epoch: 1 [16000/60000 (27%)]\tLoss: 1.086761\n",
      "Train Epoch: 1 [16640/60000 (28%)]\tLoss: 0.869632\n",
      "Train Epoch: 1 [17280/60000 (29%)]\tLoss: 0.863793\n",
      "Train Epoch: 1 [17920/60000 (30%)]\tLoss: 0.736597\n",
      "Train Epoch: 1 [18560/60000 (31%)]\tLoss: 0.832364\n",
      "Train Epoch: 1 [19200/60000 (32%)]\tLoss: 1.138859\n",
      "Train Epoch: 1 [19840/60000 (33%)]\tLoss: 0.644875\n",
      "Train Epoch: 1 [20480/60000 (34%)]\tLoss: 0.720333\n",
      "Train Epoch: 1 [21120/60000 (35%)]\tLoss: 0.600938\n",
      "Train Epoch: 1 [21760/60000 (36%)]\tLoss: 0.684984\n",
      "Train Epoch: 1 [22400/60000 (37%)]\tLoss: 0.528223\n",
      "Train Epoch: 1 [23040/60000 (38%)]\tLoss: 0.870327\n",
      "Train Epoch: 1 [23680/60000 (39%)]\tLoss: 0.679427\n",
      "Train Epoch: 1 [24320/60000 (41%)]\tLoss: 0.702003\n",
      "Train Epoch: 1 [24960/60000 (42%)]\tLoss: 0.758371\n",
      "Train Epoch: 1 [25600/60000 (43%)]\tLoss: 0.582490\n",
      "Train Epoch: 1 [26240/60000 (44%)]\tLoss: 0.604320\n",
      "Train Epoch: 1 [26880/60000 (45%)]\tLoss: 0.663532\n",
      "Train Epoch: 1 [27520/60000 (46%)]\tLoss: 0.707714\n",
      "Train Epoch: 1 [28160/60000 (47%)]\tLoss: 0.656039\n",
      "Train Epoch: 1 [28800/60000 (48%)]\tLoss: 0.487352\n",
      "Train Epoch: 1 [29440/60000 (49%)]\tLoss: 0.493268\n",
      "Train Epoch: 1 [30080/60000 (50%)]\tLoss: 0.653788\n",
      "Train Epoch: 1 [30720/60000 (51%)]\tLoss: 0.799174\n",
      "Train Epoch: 1 [31360/60000 (52%)]\tLoss: 0.674316\n",
      "Train Epoch: 1 [32000/60000 (53%)]\tLoss: 0.579146\n",
      "Train Epoch: 1 [32640/60000 (54%)]\tLoss: 0.567311\n",
      "Train Epoch: 1 [33280/60000 (55%)]\tLoss: 0.545673\n",
      "Train Epoch: 1 [33920/60000 (57%)]\tLoss: 0.656132\n",
      "Train Epoch: 1 [34560/60000 (58%)]\tLoss: 0.557558\n",
      "Train Epoch: 1 [35200/60000 (59%)]\tLoss: 0.537151\n",
      "Train Epoch: 1 [35840/60000 (60%)]\tLoss: 0.780849\n",
      "Train Epoch: 1 [36480/60000 (61%)]\tLoss: 0.467483\n",
      "Train Epoch: 1 [37120/60000 (62%)]\tLoss: 0.507335\n",
      "Train Epoch: 1 [37760/60000 (63%)]\tLoss: 0.655514\n",
      "Train Epoch: 1 [38400/60000 (64%)]\tLoss: 0.704055\n",
      "Train Epoch: 1 [39040/60000 (65%)]\tLoss: 0.513142\n",
      "Train Epoch: 1 [39680/60000 (66%)]\tLoss: 0.484851\n",
      "Train Epoch: 1 [40320/60000 (67%)]\tLoss: 0.691068\n",
      "Train Epoch: 1 [40960/60000 (68%)]\tLoss: 0.652161\n",
      "Train Epoch: 1 [41600/60000 (69%)]\tLoss: 0.414176\n",
      "Train Epoch: 1 [42240/60000 (70%)]\tLoss: 0.557999\n",
      "Train Epoch: 1 [42880/60000 (71%)]\tLoss: 0.548647\n",
      "Train Epoch: 1 [43520/60000 (72%)]\tLoss: 0.452810\n",
      "Train Epoch: 1 [44160/60000 (74%)]\tLoss: 0.603238\n",
      "Train Epoch: 1 [44800/60000 (75%)]\tLoss: 0.650478\n",
      "Train Epoch: 1 [45440/60000 (76%)]\tLoss: 0.527282\n",
      "Train Epoch: 1 [46080/60000 (77%)]\tLoss: 0.411210\n",
      "Train Epoch: 1 [46720/60000 (78%)]\tLoss: 0.458630\n",
      "Train Epoch: 1 [47360/60000 (79%)]\tLoss: 0.478556\n",
      "Train Epoch: 1 [48000/60000 (80%)]\tLoss: 0.521174\n",
      "Train Epoch: 1 [48640/60000 (81%)]\tLoss: 0.421251\n",
      "Train Epoch: 1 [49280/60000 (82%)]\tLoss: 0.650526\n",
      "Train Epoch: 1 [49920/60000 (83%)]\tLoss: 0.457719\n",
      "Train Epoch: 1 [50560/60000 (84%)]\tLoss: 0.759817\n",
      "Train Epoch: 1 [51200/60000 (85%)]\tLoss: 0.494756\n",
      "Train Epoch: 1 [51840/60000 (86%)]\tLoss: 0.341280\n",
      "Train Epoch: 1 [52480/60000 (87%)]\tLoss: 0.744883\n",
      "Train Epoch: 1 [53120/60000 (88%)]\tLoss: 0.415404\n",
      "Train Epoch: 1 [53760/60000 (90%)]\tLoss: 0.567261\n",
      "Train Epoch: 1 [54400/60000 (91%)]\tLoss: 0.739157\n",
      "Train Epoch: 1 [55040/60000 (92%)]\tLoss: 0.369423\n",
      "Train Epoch: 1 [55680/60000 (93%)]\tLoss: 0.199118\n",
      "Train Epoch: 1 [56320/60000 (94%)]\tLoss: 0.283124\n",
      "Train Epoch: 1 [56960/60000 (95%)]\tLoss: 0.585937\n",
      "Train Epoch: 1 [57600/60000 (96%)]\tLoss: 0.281878\n",
      "Train Epoch: 1 [58240/60000 (97%)]\tLoss: 0.544200\n",
      "Train Epoch: 1 [58880/60000 (98%)]\tLoss: 0.443755\n",
      "Train Epoch: 1 [59520/60000 (99%)]\tLoss: 0.435588\n",
      "\n",
      "Test set: Avg. loss: 0.1806, Accuracy: 9438/10000 (94%)\n",
      "\n",
      "Train Epoch: 2 [0/60000 (0%)]\tLoss: 0.766553\n",
      "Train Epoch: 2 [640/60000 (1%)]\tLoss: 0.477892\n",
      "Train Epoch: 2 [1280/60000 (2%)]\tLoss: 0.330572\n",
      "Train Epoch: 2 [1920/60000 (3%)]\tLoss: 0.423457\n",
      "Train Epoch: 2 [2560/60000 (4%)]\tLoss: 0.343278\n",
      "Train Epoch: 2 [3200/60000 (5%)]\tLoss: 0.571161\n",
      "Train Epoch: 2 [3840/60000 (6%)]\tLoss: 0.455395\n",
      "Train Epoch: 2 [4480/60000 (7%)]\tLoss: 0.442966\n",
      "Train Epoch: 2 [5120/60000 (9%)]\tLoss: 0.427229\n",
      "Train Epoch: 2 [5760/60000 (10%)]\tLoss: 0.533101\n",
      "Train Epoch: 2 [6400/60000 (11%)]\tLoss: 0.548845\n",
      "Train Epoch: 2 [7040/60000 (12%)]\tLoss: 0.525554\n",
      "Train Epoch: 2 [7680/60000 (13%)]\tLoss: 0.354276\n",
      "Train Epoch: 2 [8320/60000 (14%)]\tLoss: 0.285634\n",
      "Train Epoch: 2 [8960/60000 (15%)]\tLoss: 0.207875\n",
      "Train Epoch: 2 [9600/60000 (16%)]\tLoss: 0.255429\n",
      "Train Epoch: 2 [10240/60000 (17%)]\tLoss: 0.542610\n",
      "Train Epoch: 2 [10880/60000 (18%)]\tLoss: 0.397100\n",
      "Train Epoch: 2 [11520/60000 (19%)]\tLoss: 0.543732\n",
      "Train Epoch: 2 [12160/60000 (20%)]\tLoss: 0.417810\n",
      "Train Epoch: 2 [12800/60000 (21%)]\tLoss: 0.492645\n",
      "Train Epoch: 2 [13440/60000 (22%)]\tLoss: 0.671534\n",
      "Train Epoch: 2 [14080/60000 (23%)]\tLoss: 0.521191\n",
      "Train Epoch: 2 [14720/60000 (25%)]\tLoss: 0.372168\n",
      "Train Epoch: 2 [15360/60000 (26%)]\tLoss: 0.316318\n",
      "Train Epoch: 2 [16000/60000 (27%)]\tLoss: 0.493783\n",
      "Train Epoch: 2 [16640/60000 (28%)]\tLoss: 0.188364\n",
      "Train Epoch: 2 [17280/60000 (29%)]\tLoss: 0.266552\n",
      "Train Epoch: 2 [17920/60000 (30%)]\tLoss: 0.331992\n",
      "Train Epoch: 2 [18560/60000 (31%)]\tLoss: 0.327506\n",
      "Train Epoch: 2 [19200/60000 (32%)]\tLoss: 0.380589\n",
      "Train Epoch: 2 [19840/60000 (33%)]\tLoss: 0.364428\n",
      "Train Epoch: 2 [20480/60000 (34%)]\tLoss: 0.340304\n",
      "Train Epoch: 2 [21120/60000 (35%)]\tLoss: 0.333365\n",
      "Train Epoch: 2 [21760/60000 (36%)]\tLoss: 0.360792\n",
      "Train Epoch: 2 [22400/60000 (37%)]\tLoss: 0.401120\n",
      "Train Epoch: 2 [23040/60000 (38%)]\tLoss: 0.198410\n",
      "Train Epoch: 2 [23680/60000 (39%)]\tLoss: 0.293728\n",
      "Train Epoch: 2 [24320/60000 (41%)]\tLoss: 0.436645\n",
      "Train Epoch: 2 [24960/60000 (42%)]\tLoss: 0.414578\n",
      "Train Epoch: 2 [25600/60000 (43%)]\tLoss: 0.168516\n",
      "Train Epoch: 2 [26240/60000 (44%)]\tLoss: 0.543655\n",
      "Train Epoch: 2 [26880/60000 (45%)]\tLoss: 0.627843\n",
      "Train Epoch: 2 [27520/60000 (46%)]\tLoss: 0.302842\n",
      "Train Epoch: 2 [28160/60000 (47%)]\tLoss: 0.420255\n",
      "Train Epoch: 2 [28800/60000 (48%)]\tLoss: 0.530276\n",
      "Train Epoch: 2 [29440/60000 (49%)]\tLoss: 0.464189\n",
      "Train Epoch: 2 [30080/60000 (50%)]\tLoss: 0.540840\n",
      "Train Epoch: 2 [30720/60000 (51%)]\tLoss: 0.260567\n",
      "Train Epoch: 2 [31360/60000 (52%)]\tLoss: 0.220616\n",
      "Train Epoch: 2 [32000/60000 (53%)]\tLoss: 0.282386\n",
      "Train Epoch: 2 [32640/60000 (54%)]\tLoss: 0.282993\n",
      "Train Epoch: 2 [33280/60000 (55%)]\tLoss: 0.574771\n",
      "Train Epoch: 2 [33920/60000 (57%)]\tLoss: 0.481787\n",
      "Train Epoch: 2 [34560/60000 (58%)]\tLoss: 0.401951\n",
      "Train Epoch: 2 [35200/60000 (59%)]\tLoss: 0.346119\n",
      "Train Epoch: 2 [35840/60000 (60%)]\tLoss: 0.520107\n",
      "Train Epoch: 2 [36480/60000 (61%)]\tLoss: 0.187179\n",
      "Train Epoch: 2 [37120/60000 (62%)]\tLoss: 0.527331\n",
      "Train Epoch: 2 [37760/60000 (63%)]\tLoss: 0.363255\n",
      "Train Epoch: 2 [38400/60000 (64%)]\tLoss: 0.413187\n",
      "Train Epoch: 2 [39040/60000 (65%)]\tLoss: 0.262244\n",
      "Train Epoch: 2 [39680/60000 (66%)]\tLoss: 0.420902\n",
      "Train Epoch: 2 [40320/60000 (67%)]\tLoss: 0.587077\n",
      "Train Epoch: 2 [40960/60000 (68%)]\tLoss: 0.448313\n",
      "Train Epoch: 2 [41600/60000 (69%)]\tLoss: 0.212158\n",
      "Train Epoch: 2 [42240/60000 (70%)]\tLoss: 0.605276\n",
      "Train Epoch: 2 [42880/60000 (71%)]\tLoss: 0.327474\n",
      "Train Epoch: 2 [43520/60000 (72%)]\tLoss: 0.312283\n"
     ]
    },
    {
     "name": "stdout",
     "output_type": "stream",
     "text": [
      "Train Epoch: 2 [44160/60000 (74%)]\tLoss: 0.394363\n",
      "Train Epoch: 2 [44800/60000 (75%)]\tLoss: 0.598334\n",
      "Train Epoch: 2 [45440/60000 (76%)]\tLoss: 0.462230\n",
      "Train Epoch: 2 [46080/60000 (77%)]\tLoss: 0.207433\n",
      "Train Epoch: 2 [46720/60000 (78%)]\tLoss: 0.349840\n",
      "Train Epoch: 2 [47360/60000 (79%)]\tLoss: 0.284363\n",
      "Train Epoch: 2 [48000/60000 (80%)]\tLoss: 0.239184\n",
      "Train Epoch: 2 [48640/60000 (81%)]\tLoss: 0.520464\n",
      "Train Epoch: 2 [49280/60000 (82%)]\tLoss: 0.683627\n",
      "Train Epoch: 2 [49920/60000 (83%)]\tLoss: 0.347033\n",
      "Train Epoch: 2 [50560/60000 (84%)]\tLoss: 0.195163\n",
      "Train Epoch: 2 [51200/60000 (85%)]\tLoss: 0.521449\n",
      "Train Epoch: 2 [51840/60000 (86%)]\tLoss: 0.312383\n",
      "Train Epoch: 2 [52480/60000 (87%)]\tLoss: 0.227621\n",
      "Train Epoch: 2 [53120/60000 (88%)]\tLoss: 0.275316\n",
      "Train Epoch: 2 [53760/60000 (90%)]\tLoss: 0.323918\n",
      "Train Epoch: 2 [54400/60000 (91%)]\tLoss: 0.545607\n",
      "Train Epoch: 2 [55040/60000 (92%)]\tLoss: 0.277306\n",
      "Train Epoch: 2 [55680/60000 (93%)]\tLoss: 0.252747\n",
      "Train Epoch: 2 [56320/60000 (94%)]\tLoss: 0.247210\n",
      "Train Epoch: 2 [56960/60000 (95%)]\tLoss: 0.192789\n",
      "Train Epoch: 2 [57600/60000 (96%)]\tLoss: 0.357283\n",
      "Train Epoch: 2 [58240/60000 (97%)]\tLoss: 0.205209\n",
      "Train Epoch: 2 [58880/60000 (98%)]\tLoss: 0.421007\n",
      "Train Epoch: 2 [59520/60000 (99%)]\tLoss: 0.215196\n",
      "\n",
      "Test set: Avg. loss: 0.1181, Accuracy: 9620/10000 (96%)\n",
      "\n",
      "Train Epoch: 3 [0/60000 (0%)]\tLoss: 0.264305\n",
      "Train Epoch: 3 [640/60000 (1%)]\tLoss: 0.310825\n",
      "Train Epoch: 3 [1280/60000 (2%)]\tLoss: 0.341720\n",
      "Train Epoch: 3 [1920/60000 (3%)]\tLoss: 0.376943\n",
      "Train Epoch: 3 [2560/60000 (4%)]\tLoss: 0.362081\n",
      "Train Epoch: 3 [3200/60000 (5%)]\tLoss: 0.495611\n",
      "Train Epoch: 3 [3840/60000 (6%)]\tLoss: 0.293340\n",
      "Train Epoch: 3 [4480/60000 (7%)]\tLoss: 0.410630\n",
      "Train Epoch: 3 [5120/60000 (9%)]\tLoss: 0.351565\n",
      "Train Epoch: 3 [5760/60000 (10%)]\tLoss: 0.213939\n",
      "Train Epoch: 3 [6400/60000 (11%)]\tLoss: 0.149771\n",
      "Train Epoch: 3 [7040/60000 (12%)]\tLoss: 0.197660\n",
      "Train Epoch: 3 [7680/60000 (13%)]\tLoss: 0.239062\n",
      "Train Epoch: 3 [8320/60000 (14%)]\tLoss: 0.284680\n",
      "Train Epoch: 3 [8960/60000 (15%)]\tLoss: 0.212832\n",
      "Train Epoch: 3 [9600/60000 (16%)]\tLoss: 0.239458\n",
      "Train Epoch: 3 [10240/60000 (17%)]\tLoss: 0.224106\n",
      "Train Epoch: 3 [10880/60000 (18%)]\tLoss: 0.518391\n",
      "Train Epoch: 3 [11520/60000 (19%)]\tLoss: 0.454964\n",
      "Train Epoch: 3 [12160/60000 (20%)]\tLoss: 0.266206\n",
      "Train Epoch: 3 [12800/60000 (21%)]\tLoss: 0.277570\n",
      "Train Epoch: 3 [13440/60000 (22%)]\tLoss: 0.286686\n",
      "Train Epoch: 3 [14080/60000 (23%)]\tLoss: 0.279593\n",
      "Train Epoch: 3 [14720/60000 (25%)]\tLoss: 0.216551\n",
      "Train Epoch: 3 [15360/60000 (26%)]\tLoss: 0.226560\n",
      "Train Epoch: 3 [16000/60000 (27%)]\tLoss: 0.375963\n",
      "Train Epoch: 3 [16640/60000 (28%)]\tLoss: 0.414205\n",
      "Train Epoch: 3 [17280/60000 (29%)]\tLoss: 0.195162\n",
      "Train Epoch: 3 [17920/60000 (30%)]\tLoss: 0.207875\n",
      "Train Epoch: 3 [18560/60000 (31%)]\tLoss: 0.629380\n",
      "Train Epoch: 3 [19200/60000 (32%)]\tLoss: 0.164776\n",
      "Train Epoch: 3 [19840/60000 (33%)]\tLoss: 0.275609\n",
      "Train Epoch: 3 [20480/60000 (34%)]\tLoss: 0.421907\n",
      "Train Epoch: 3 [21120/60000 (35%)]\tLoss: 0.225926\n",
      "Train Epoch: 3 [21760/60000 (36%)]\tLoss: 0.336120\n",
      "Train Epoch: 3 [22400/60000 (37%)]\tLoss: 0.352748\n",
      "Train Epoch: 3 [23040/60000 (38%)]\tLoss: 0.468208\n",
      "Train Epoch: 3 [23680/60000 (39%)]\tLoss: 0.101311\n",
      "Train Epoch: 3 [24320/60000 (41%)]\tLoss: 0.316435\n",
      "Train Epoch: 3 [24960/60000 (42%)]\tLoss: 0.361525\n",
      "Train Epoch: 3 [25600/60000 (43%)]\tLoss: 0.156790\n",
      "Train Epoch: 3 [26240/60000 (44%)]\tLoss: 0.453184\n",
      "Train Epoch: 3 [26880/60000 (45%)]\tLoss: 0.259100\n",
      "Train Epoch: 3 [27520/60000 (46%)]\tLoss: 0.230410\n",
      "Train Epoch: 3 [28160/60000 (47%)]\tLoss: 0.250772\n",
      "Train Epoch: 3 [28800/60000 (48%)]\tLoss: 0.216452\n",
      "Train Epoch: 3 [29440/60000 (49%)]\tLoss: 0.154472\n",
      "Train Epoch: 3 [30080/60000 (50%)]\tLoss: 0.434222\n",
      "Train Epoch: 3 [30720/60000 (51%)]\tLoss: 0.232157\n",
      "Train Epoch: 3 [31360/60000 (52%)]\tLoss: 0.303406\n",
      "Train Epoch: 3 [32000/60000 (53%)]\tLoss: 0.346556\n",
      "Train Epoch: 3 [32640/60000 (54%)]\tLoss: 0.324291\n",
      "Train Epoch: 3 [33280/60000 (55%)]\tLoss: 0.313099\n",
      "Train Epoch: 3 [33920/60000 (57%)]\tLoss: 0.249271\n",
      "Train Epoch: 3 [34560/60000 (58%)]\tLoss: 0.084091\n",
      "Train Epoch: 3 [35200/60000 (59%)]\tLoss: 0.283530\n",
      "Train Epoch: 3 [35840/60000 (60%)]\tLoss: 0.196213\n",
      "Train Epoch: 3 [36480/60000 (61%)]\tLoss: 0.326832\n",
      "Train Epoch: 3 [37120/60000 (62%)]\tLoss: 0.414602\n",
      "Train Epoch: 3 [37760/60000 (63%)]\tLoss: 0.534748\n",
      "Train Epoch: 3 [38400/60000 (64%)]\tLoss: 0.328257\n",
      "Train Epoch: 3 [39040/60000 (65%)]\tLoss: 0.390640\n",
      "Train Epoch: 3 [39680/60000 (66%)]\tLoss: 0.733145\n",
      "Train Epoch: 3 [40320/60000 (67%)]\tLoss: 0.383717\n",
      "Train Epoch: 3 [40960/60000 (68%)]\tLoss: 0.323303\n",
      "Train Epoch: 3 [41600/60000 (69%)]\tLoss: 0.250827\n",
      "Train Epoch: 3 [42240/60000 (70%)]\tLoss: 0.297419\n",
      "Train Epoch: 3 [42880/60000 (71%)]\tLoss: 0.121296\n",
      "Train Epoch: 3 [43520/60000 (72%)]\tLoss: 0.279082\n",
      "Train Epoch: 3 [44160/60000 (74%)]\tLoss: 0.501470\n",
      "Train Epoch: 3 [44800/60000 (75%)]\tLoss: 0.469818\n",
      "Train Epoch: 3 [45440/60000 (76%)]\tLoss: 0.239011\n",
      "Train Epoch: 3 [46080/60000 (77%)]\tLoss: 0.227680\n",
      "Train Epoch: 3 [46720/60000 (78%)]\tLoss: 0.443794\n",
      "Train Epoch: 3 [47360/60000 (79%)]\tLoss: 0.154199\n",
      "Train Epoch: 3 [48000/60000 (80%)]\tLoss: 0.312417\n",
      "Train Epoch: 3 [48640/60000 (81%)]\tLoss: 0.290384\n",
      "Train Epoch: 3 [49280/60000 (82%)]\tLoss: 0.383701\n",
      "Train Epoch: 3 [49920/60000 (83%)]\tLoss: 0.224380\n",
      "Train Epoch: 3 [50560/60000 (84%)]\tLoss: 0.403298\n",
      "Train Epoch: 3 [51200/60000 (85%)]\tLoss: 0.314201\n",
      "Train Epoch: 3 [51840/60000 (86%)]\tLoss: 0.282618\n",
      "Train Epoch: 3 [52480/60000 (87%)]\tLoss: 0.364626\n",
      "Train Epoch: 3 [53120/60000 (88%)]\tLoss: 0.178706\n",
      "Train Epoch: 3 [53760/60000 (90%)]\tLoss: 0.176536\n",
      "Train Epoch: 3 [54400/60000 (91%)]\tLoss: 0.150370\n",
      "Train Epoch: 3 [55040/60000 (92%)]\tLoss: 0.396697\n",
      "Train Epoch: 3 [55680/60000 (93%)]\tLoss: 0.219927\n",
      "Train Epoch: 3 [56320/60000 (94%)]\tLoss: 0.489482\n",
      "Train Epoch: 3 [56960/60000 (95%)]\tLoss: 0.353769\n",
      "Train Epoch: 3 [57600/60000 (96%)]\tLoss: 0.324772\n",
      "Train Epoch: 3 [58240/60000 (97%)]\tLoss: 0.286124\n",
      "Train Epoch: 3 [58880/60000 (98%)]\tLoss: 0.126033\n",
      "Train Epoch: 3 [59520/60000 (99%)]\tLoss: 0.356922\n",
      "\n",
      "Test set: Avg. loss: 0.0987, Accuracy: 9695/10000 (97%)\n",
      "\n"
     ]
    }
   ],
   "source": [
    "test()\n",
    "for epoch in range(1, n_epochs + 1):\n",
    "  train(epoch)\n",
    "  test()"
   ]
  },
  {
   "cell_type": "markdown",
   "id": "0dd9c660",
   "metadata": {},
   "source": [
    "### Performance check"
   ]
  },
  {
   "cell_type": "code",
   "execution_count": 22,
   "id": "6676a959",
   "metadata": {
    "scrolled": true
   },
   "outputs": [
    {
     "data": {
      "image/png": "[encoded data removed]",
      "text/plain": [
       "<Figure size 432x288 with 1 Axes>"
      ]
     },
     "metadata": {
      "needs_background": "light"
     },
     "output_type": "display_data"
    }
   ],
   "source": [
    "plt.plot(train_counter, train_losses, color='blue')\n",
    "plt.scatter(test_counter, test_losses, color='red')\n",
    "plt.legend(['Train Loss', 'Test Loss'], loc='upper right')\n",
    "plt.xlabel('number of training examples seen')\n",
    "plt.ylabel('negative log likelihood loss')\n",
    "plt.show()"
   ]
  },
  {
   "cell_type": "code",
   "execution_count": 39,
   "id": "a83a0336",
   "metadata": {
    "scrolled": false
   },
   "outputs": [
    {
     "name": "stderr",
     "output_type": "stream",
     "text": [
      "<ipython-input-10-6c2218f37724>:17: UserWarning: Implicit dimension choice for log_softmax has been deprecated. Change the call to include dim=X as an argument.\n",
      "  return F.log_softmax(x)\n"
     ]
    },
    {
     "data": {
      "text/plain": [
       "<function seaborn.rcmod.reset_orig()>"
      ]
     },
     "execution_count": 39,
     "metadata": {},
     "output_type": "execute_result"
    },
    {
     "data": {
      "image/png": "[encoded data removed]",
      "text/plain": [
       "<Figure size 432x288 with 2 Axes>"
      ]
     },
     "metadata": {},
     "output_type": "display_data"
    }
   ],
   "source": [
    "for data, target in test_loader:\n",
    "      output = network(data)\n",
    "output_idx = torch.argmax(output,dim=1)\n",
    "\n",
    "cf_mat = confusion_matrix(target,output_idx)\n",
    "sns.set(font_scale=1)\n",
    "sns.heatmap(cf_mat,annot = True,cmap = 'YlGnBu', fmt='d', \n",
    "            xticklabels = np.arange(0,10), yticklabels = np.arange(0,10))\n",
    "\n",
    "sns.reset_orig"
   ]
  },
  {
   "cell_type": "code",
   "execution_count": 35,
   "id": "fb0bb419",
   "metadata": {
    "scrolled": true
   },
   "outputs": [
    {
     "name": "stdout",
     "output_type": "stream",
     "text": [
      "tensor([5, 4, 7, 3, 1, 5, 2, 6, 3, 4, 6, 2, 4, 3, 0, 1, 0, 2, 7, 1, 8, 1, 6, 7,\n",
      "        4, 0, 7, 1, 7, 1, 6, 8, 2, 9, 9, 4, 6, 4, 5, 1, 8, 9, 8, 2, 1, 7, 4, 8,\n",
      "        5, 3, 7, 4, 3, 6, 4, 7, 6, 5, 8, 4, 7, 7, 5, 4, 8, 9, 0, 8, 2, 2, 1, 2,\n",
      "        4, 3, 8, 8, 7, 9, 8, 8, 1, 6, 3, 0, 6, 1, 4, 1, 3, 5, 1, 2, 5, 7, 5, 6,\n",
      "        9, 6, 4, 3, 3, 2, 5, 2, 4, 6, 0, 2, 9, 1, 7, 1, 5, 2, 9, 2, 4, 7, 6, 7,\n",
      "        3, 9, 2, 4, 4, 3, 3, 2, 2, 4, 0, 4, 9, 3, 0, 1, 6, 0, 4, 8, 0, 3, 0, 7,\n",
      "        3, 2, 4, 5, 0, 4, 0, 2, 0, 4, 9, 1, 6, 2, 8, 7, 6, 4, 9, 5, 5, 3, 7, 9,\n",
      "        3, 9, 0, 2, 1, 5, 7, 4, 1, 4, 8, 1, 1, 3, 7, 3, 8, 1, 4, 6, 5, 0, 6, 2,\n",
      "        3, 1, 4, 0, 3, 5, 2, 3, 0, 4, 6, 8, 1, 0, 4, 2, 7, 8, 9, 8, 9, 9, 3, 6,\n",
      "        0, 0, 1, 3, 9, 2, 9, 1, 9, 9, 3, 6, 7, 1, 1, 7, 1, 6, 7, 7, 6, 7, 8, 2,\n",
      "        6, 1, 4, 0, 2, 0, 2, 0, 7, 5, 2, 0, 2, 2, 8, 2, 7, 4, 3, 8, 6, 4, 7, 2,\n",
      "        9, 3, 7, 9, 3, 0, 2, 1, 1, 5, 8, 0, 1, 8, 6, 2, 2, 3, 1, 1, 2, 7, 4, 9,\n",
      "        5, 9, 8, 1, 6, 6, 1, 5, 5, 1, 1, 6, 2, 3, 6, 3, 8, 1, 6, 1, 1, 2, 6, 3,\n",
      "        8, 7, 7, 2, 3, 2, 6, 2, 0, 1, 2, 8, 2, 1, 6, 1, 7, 6, 5, 8, 8, 0, 6, 4,\n",
      "        3, 4, 6, 3, 7, 9, 0, 1, 0, 4, 2, 3, 3, 1, 5, 3, 1, 5, 2, 1, 0, 8, 9, 6,\n",
      "        7, 8, 1, 4, 4, 3, 2, 3, 4, 1, 5, 5, 4, 0, 9, 1, 0, 7, 8, 9, 0, 0, 7, 9,\n",
      "        9, 5, 6, 2, 4, 6, 3, 8, 8, 1, 9, 7, 7, 8, 5, 4, 5, 3, 0, 8, 1, 5, 2, 7,\n",
      "        3, 4, 7, 3, 7, 3, 3, 0, 4, 0, 1, 0, 5, 3, 7, 6, 4, 8, 5, 4, 7, 7, 6, 1,\n",
      "        7, 7, 2, 5, 9, 6, 0, 0, 7, 2, 4, 0, 5, 5, 9, 1, 6, 8, 9, 4, 5, 3, 9, 9,\n",
      "        2, 0, 0, 3, 9, 2, 8, 1, 9, 9, 2, 2, 9, 5, 0, 2, 1, 9, 3, 1, 4, 4, 1, 0,\n",
      "        3, 7, 5, 6, 2, 4, 7, 6, 2, 7, 9, 7, 2, 9, 0, 1, 2, 7, 6, 5, 7, 4, 1, 5,\n",
      "        3, 7, 3, 7, 6, 3, 3, 9, 1, 8, 2, 6, 8, 0, 9, 9, 7, 6, 0, 0, 0, 5, 1, 8,\n",
      "        9, 3, 7, 8, 5, 8, 5, 1, 0, 0, 2, 8, 0, 3, 5, 6, 4, 8, 2, 7, 1, 9, 4, 5,\n",
      "        8, 7, 1, 3, 3, 7, 8, 1, 5, 3, 4, 7, 9, 2, 8, 1, 0, 0, 6, 6, 2, 0, 7, 9,\n",
      "        4, 5, 6, 5, 0, 7, 0, 5, 6, 9, 1, 4, 1, 4, 2, 1, 3, 5, 9, 3, 1, 6, 1, 3,\n",
      "        2, 7, 1, 8, 3, 8, 9, 9, 3, 8, 4, 6, 5, 1, 6, 9, 9, 3, 9, 6, 1, 2, 1, 7,\n",
      "        5, 6, 2, 1, 6, 7, 1, 4, 3, 2, 1, 6, 7, 0, 9, 3, 9, 5, 4, 8, 0, 8, 3, 1,\n",
      "        3, 2, 5, 5, 9, 1, 1, 4, 7, 4, 9, 0, 1, 9, 9, 6, 3, 7, 3, 7, 7, 1, 1, 1,\n",
      "        5, 5, 2, 2, 8, 3, 1, 9, 4, 2, 6, 0, 3, 4, 1, 8, 7, 1, 2, 4, 4, 2, 7, 2,\n",
      "        8, 5, 1, 8, 8, 3, 3, 6, 7, 6, 8, 9, 9, 7, 0, 2, 6, 9, 6, 3, 8, 6, 9, 8,\n",
      "        9, 5, 5, 1, 4, 8, 4, 2, 0, 3, 1, 6, 0, 4, 2, 2, 9, 9, 8, 1, 3, 0, 7, 2,\n",
      "        3, 6, 0, 3, 5, 2, 0, 2, 5, 8, 4, 6, 8, 4, 6, 6, 8, 6, 7, 1, 1, 1, 6, 1,\n",
      "        8, 2, 1, 7, 8, 8, 7, 3, 7, 6, 9, 7, 0, 2, 7, 6, 6, 8, 6, 0, 3, 1, 7, 8,\n",
      "        1, 1, 5, 7, 5, 8, 4, 4, 5, 5, 3, 7, 6, 6, 1, 3, 0, 5, 5, 9, 7, 4, 0, 7,\n",
      "        8, 4, 2, 0, 5, 7, 8, 5, 1, 5, 4, 2, 3, 3, 7, 8, 2, 6, 2, 3, 0, 9, 0, 5,\n",
      "        3, 5, 7, 6, 0, 6, 0, 9, 6, 1, 3, 3, 3, 7, 9, 8, 2, 5, 5, 2, 0, 4, 6, 7,\n",
      "        4, 2, 3, 6, 2, 4, 1, 1, 7, 8, 0, 5, 4, 0, 5, 1, 1, 8, 3, 9, 1, 8, 6, 7,\n",
      "        0, 8, 6, 1, 3, 1, 5, 8, 4, 8, 3, 7, 8, 1, 0, 6, 7, 4, 6, 6, 2, 4, 4, 1,\n",
      "        0, 8, 1, 3, 6, 0, 1, 4, 5, 2, 6, 7, 6, 3, 3, 6, 1, 0, 5, 4, 8, 0, 2, 2,\n",
      "        6, 1, 0, 5, 3, 8, 2, 4, 3, 0, 4, 7, 0, 2, 9, 8, 3, 4, 8, 1, 3, 5, 6, 6,\n",
      "        8, 0, 2, 6, 8, 7, 5, 0, 7, 0, 6, 9, 7, 7, 1, 0, 9, 8, 5, 5, 4, 1, 1, 1,\n",
      "        0, 8, 7, 3, 0, 1, 8, 9, 2, 4, 4, 8, 6, 9, 7, 7])\n",
      "tensor([5, 4, 7, 3, 1, 5, 2, 6, 3, 4, 6, 2, 4, 3, 6, 1, 0, 2, 7, 1, 8, 1, 6, 7,\n",
      "        4, 0, 7, 1, 7, 1, 6, 8, 2, 9, 9, 4, 6, 4, 5, 1, 8, 9, 8, 2, 1, 7, 4, 8,\n",
      "        5, 3, 7, 4, 3, 6, 4, 7, 6, 5, 8, 4, 7, 7, 5, 4, 8, 9, 0, 8, 2, 2, 1, 2,\n",
      "        4, 3, 8, 8, 7, 9, 8, 8, 1, 6, 3, 0, 6, 1, 4, 1, 3, 5, 1, 2, 5, 7, 5, 6,\n",
      "        9, 6, 4, 3, 3, 2, 5, 2, 4, 6, 0, 7, 9, 1, 7, 1, 5, 2, 9, 2, 4, 7, 6, 7,\n",
      "        3, 8, 2, 4, 4, 3, 3, 7, 2, 4, 0, 4, 9, 3, 0, 1, 6, 0, 4, 8, 0, 3, 0, 7,\n",
      "        3, 2, 4, 5, 0, 4, 0, 2, 0, 4, 9, 1, 6, 2, 8, 7, 6, 4, 9, 5, 5, 3, 7, 9,\n",
      "        3, 9, 0, 2, 1, 5, 7, 4, 1, 4, 8, 1, 1, 3, 7, 3, 8, 1, 4, 6, 5, 0, 6, 2,\n",
      "        3, 1, 4, 0, 3, 5, 2, 3, 0, 4, 6, 8, 1, 0, 4, 2, 7, 8, 9, 8, 9, 9, 3, 6,\n",
      "        0, 0, 1, 3, 9, 2, 9, 1, 9, 9, 3, 6, 7, 1, 1, 7, 1, 6, 3, 7, 6, 7, 3, 2,\n",
      "        6, 1, 4, 0, 2, 0, 2, 0, 7, 5, 2, 0, 2, 2, 8, 2, 7, 4, 3, 8, 6, 4, 7, 2,\n",
      "        9, 3, 7, 9, 3, 0, 2, 1, 1, 5, 8, 0, 1, 8, 6, 2, 2, 3, 1, 1, 2, 7, 4, 9,\n",
      "        5, 9, 8, 1, 6, 6, 1, 5, 5, 1, 1, 6, 2, 3, 6, 3, 8, 1, 6, 1, 1, 2, 6, 3,\n",
      "        8, 7, 7, 2, 3, 2, 6, 2, 0, 1, 2, 8, 2, 1, 6, 1, 7, 6, 5, 8, 8, 0, 6, 4,\n",
      "        3, 4, 6, 3, 7, 9, 0, 1, 0, 4, 8, 3, 3, 1, 5, 3, 1, 5, 2, 1, 0, 8, 9, 6,\n",
      "        7, 8, 1, 4, 4, 3, 2, 3, 4, 1, 5, 5, 4, 3, 9, 1, 9, 7, 8, 9, 0, 0, 7, 9,\n",
      "        9, 5, 6, 2, 4, 6, 3, 8, 8, 1, 9, 7, 7, 8, 5, 4, 5, 3, 0, 8, 1, 9, 2, 7,\n",
      "        3, 4, 7, 3, 7, 3, 3, 0, 4, 0, 1, 0, 5, 3, 7, 6, 4, 8, 5, 4, 7, 7, 6, 1,\n",
      "        7, 7, 2, 5, 9, 6, 0, 0, 7, 2, 4, 0, 5, 5, 9, 1, 6, 8, 9, 4, 5, 3, 9, 9,\n",
      "        2, 0, 0, 3, 9, 2, 8, 1, 9, 9, 2, 2, 9, 5, 0, 2, 1, 9, 3, 7, 4, 4, 1, 0,\n",
      "        3, 7, 5, 6, 2, 4, 7, 6, 7, 8, 9, 7, 2, 9, 0, 1, 2, 7, 6, 5, 7, 4, 1, 5,\n",
      "        3, 7, 3, 7, 6, 3, 3, 9, 1, 8, 2, 6, 8, 0, 9, 9, 7, 6, 0, 0, 0, 5, 1, 8,\n",
      "        9, 3, 7, 8, 5, 8, 5, 1, 5, 0, 2, 8, 0, 3, 5, 6, 4, 8, 2, 7, 1, 9, 4, 5,\n",
      "        8, 7, 1, 3, 3, 7, 8, 1, 5, 3, 4, 7, 9, 2, 8, 1, 0, 0, 6, 6, 2, 0, 7, 9,\n",
      "        4, 5, 6, 5, 0, 7, 0, 5, 6, 9, 1, 4, 1, 4, 2, 1, 3, 5, 9, 3, 1, 6, 1, 3,\n",
      "        2, 7, 1, 8, 3, 8, 9, 9, 3, 8, 4, 6, 5, 1, 6, 9, 9, 3, 9, 6, 1, 2, 1, 7,\n",
      "        5, 6, 2, 1, 6, 7, 1, 4, 3, 2, 1, 6, 7, 0, 9, 3, 9, 5, 4, 8, 0, 8, 3, 1,\n",
      "        3, 2, 5, 5, 9, 1, 1, 4, 7, 4, 9, 0, 1, 9, 9, 6, 3, 7, 3, 7, 7, 1, 1, 1,\n",
      "        5, 5, 2, 2, 8, 3, 1, 9, 4, 2, 6, 0, 3, 4, 1, 8, 9, 1, 2, 4, 4, 2, 7, 2,\n",
      "        8, 5, 1, 8, 8, 3, 3, 6, 7, 6, 8, 9, 9, 7, 0, 2, 6, 9, 6, 3, 8, 6, 9, 8,\n",
      "        9, 5, 5, 1, 4, 8, 4, 2, 0, 3, 1, 6, 0, 4, 2, 2, 9, 9, 8, 1, 9, 0, 7, 2,\n",
      "        3, 6, 0, 3, 5, 2, 0, 2, 5, 8, 4, 6, 8, 4, 6, 0, 8, 6, 7, 1, 8, 1, 6, 1,\n",
      "        8, 2, 1, 7, 8, 8, 7, 3, 7, 6, 9, 3, 0, 2, 7, 6, 5, 8, 6, 0, 3, 1, 7, 8,\n",
      "        1, 1, 5, 7, 5, 8, 4, 4, 5, 5, 3, 7, 6, 6, 1, 7, 0, 5, 5, 9, 7, 4, 0, 7,\n",
      "        8, 4, 2, 0, 5, 7, 8, 5, 1, 5, 4, 2, 3, 3, 7, 8, 2, 6, 2, 3, 0, 9, 0, 5,\n",
      "        3, 5, 7, 6, 0, 6, 0, 9, 6, 1, 3, 3, 3, 7, 9, 8, 2, 5, 5, 2, 0, 4, 6, 7,\n",
      "        4, 2, 3, 6, 2, 6, 1, 1, 7, 8, 0, 5, 4, 0, 5, 1, 1, 8, 3, 9, 1, 8, 6, 7,\n",
      "        0, 8, 6, 1, 3, 1, 5, 8, 4, 8, 3, 7, 8, 1, 0, 6, 7, 4, 6, 6, 2, 4, 4, 1,\n",
      "        0, 8, 1, 3, 6, 0, 1, 4, 5, 2, 6, 7, 6, 3, 9, 6, 1, 0, 5, 4, 8, 0, 2, 2,\n",
      "        6, 1, 0, 5, 3, 8, 2, 4, 3, 0, 4, 7, 0, 2, 9, 8, 3, 4, 8, 1, 3, 5, 6, 6,\n",
      "        8, 0, 2, 6, 8, 7, 5, 0, 2, 0, 6, 9, 7, 7, 1, 0, 9, 8, 5, 5, 4, 1, 1, 1,\n",
      "        0, 8, 7, 5, 0, 1, 8, 9, 2, 4, 4, 8, 6, 9, 7, 7])\n"
     ]
    }
   ],
   "source": []
  }
 ],
 "metadata": {
  "kernelspec": {
   "display_name": "Python 3",
   "language": "python",
   "name": "python3"
  },
  "language_info": {
   "codemirror_mode": {
    "name": "ipython",
    "version": 3
   },
   "file_extension": ".py",
   "mimetype": "text/x-python",
   "name": "python",
   "nbconvert_exporter": "python",
   "pygments_lexer": "ipython3",
   "version": "3.8.8"
  }
 },
 "nbformat": 4,
 "nbformat_minor": 5
}
