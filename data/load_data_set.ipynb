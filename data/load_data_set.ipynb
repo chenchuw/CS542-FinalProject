{
 "cells": [
  {
   "cell_type": "code",
   "execution_count": 1,
   "id": "1f6aa34a",
   "metadata": {},
   "outputs": [],
   "source": [
    "from time import time\n",
    "import numpy as np\n",
    "from numpy import random\n",
    "import seaborn as sns\n",
    "import matplotlib.pyplot as plt\n",
    "import pandas as pd\n",
    "from sklearn.linear_model import Lasso\n",
    "from sklearn.metrics import confusion_matrix\n",
    "\n",
    "# from resnet import ResNet\n",
    "# import os\n",
    "# import torch\n",
    "\n",
    "# from datasets import spectral_dataloader\n",
    "# from training import run_epocha\n",
    "# from torch import optim"
   ]
  },
  {
   "cell_type": "code",
   "execution_count": 4,
   "id": "31713268",
   "metadata": {},
   "outputs": [
    {
     "name": "stdout",
     "output_type": "stream",
     "text": [
      "Train data dim: (60000, 784) (60000, 1)\n",
      "Test data dim: (10000, 784) (10000, 1)\n"
     ]
    }
   ],
   "source": [
    "train_images_fn = './train_images.npy'\n",
    "train_images = np.load(train_images_fn) \n",
    "train_labels_fn = './train_labels.npy'\n",
    "train_labels = np.load(train_labels_fn) \n",
    "\n",
    "test_images_fn = './test_images.npy'\n",
    "test_images = np.load(test_images_fn) \n",
    "test_labels_fn = './test_labels.npy'\n",
    "test_labels = np.load(test_labels_fn)\n",
    "\n",
    "print('Train data dim:', train_images.shape, train_labels.shape)\n",
    "print('Test data dim:', test_images.shape, test_labels.shape)"
   ]
  }
 ],
 "metadata": {
  "kernelspec": {
   "display_name": "Python 3",
   "language": "python",
   "name": "python3"
  },
  "language_info": {
   "codemirror_mode": {
    "name": "ipython",
    "version": 3
   },
   "file_extension": ".py",
   "mimetype": "text/x-python",
   "name": "python",
   "nbconvert_exporter": "python",
   "pygments_lexer": "ipython3",
   "version": "3.8.8"
  }
 },
 "nbformat": 4,
 "nbformat_minor": 5
}
