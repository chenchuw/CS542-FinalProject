{
 "cells": [
  {
   "cell_type": "markdown",
   "id": "dd897f2b",
   "metadata": {},
   "source": [
    "# Packages"
   ]
  },
  {
   "cell_type": "code",
   "execution_count": 316,
   "id": "b119aba8",
   "metadata": {},
   "outputs": [
    {
     "name": "stdout",
     "output_type": "stream",
     "text": [
      "Requirement already satisfied: lime in /Users/xiaoweige/opt/anaconda3/lib/python3.8/site-packages (0.2.0.1)\n",
      "Requirement already satisfied: scikit-learn>=0.18 in /Users/xiaoweige/opt/anaconda3/lib/python3.8/site-packages (from lime) (0.24.1)\n",
      "Requirement already satisfied: scikit-image>=0.12 in /Users/xiaoweige/opt/anaconda3/lib/python3.8/site-packages (from lime) (0.18.1)\n",
      "Requirement already satisfied: numpy in /Users/xiaoweige/opt/anaconda3/lib/python3.8/site-packages (from lime) (1.20.1)\n",
      "Requirement already satisfied: matplotlib in /Users/xiaoweige/opt/anaconda3/lib/python3.8/site-packages (from lime) (3.5.2)\n",
      "Requirement already satisfied: tqdm in /Users/xiaoweige/opt/anaconda3/lib/python3.8/site-packages (from lime) (4.59.0)\n",
      "Requirement already satisfied: scipy in /Users/xiaoweige/opt/anaconda3/lib/python3.8/site-packages (from lime) (1.6.2)\n",
      "Requirement already satisfied: networkx>=2.0 in /Users/xiaoweige/opt/anaconda3/lib/python3.8/site-packages (from scikit-image>=0.12->lime) (2.5)\n",
      "Requirement already satisfied: pillow!=7.1.0,!=7.1.1,>=4.3.0 in /Users/xiaoweige/opt/anaconda3/lib/python3.8/site-packages (from scikit-image>=0.12->lime) (8.2.0)\n",
      "Requirement already satisfied: imageio>=2.3.0 in /Users/xiaoweige/opt/anaconda3/lib/python3.8/site-packages (from scikit-image>=0.12->lime) (2.9.0)\n",
      "Requirement already satisfied: tifffile>=2019.7.26 in /Users/xiaoweige/opt/anaconda3/lib/python3.8/site-packages (from scikit-image>=0.12->lime) (2020.10.1)\n",
      "Requirement already satisfied: PyWavelets>=1.1.1 in /Users/xiaoweige/opt/anaconda3/lib/python3.8/site-packages (from scikit-image>=0.12->lime) (1.1.1)\n",
      "Requirement already satisfied: packaging>=20.0 in /Users/xiaoweige/opt/anaconda3/lib/python3.8/site-packages (from matplotlib->lime) (20.9)\n",
      "Requirement already satisfied: kiwisolver>=1.0.1 in /Users/xiaoweige/opt/anaconda3/lib/python3.8/site-packages (from matplotlib->lime) (1.3.1)\n",
      "Requirement already satisfied: cycler>=0.10 in /Users/xiaoweige/opt/anaconda3/lib/python3.8/site-packages (from matplotlib->lime) (0.10.0)\n",
      "Requirement already satisfied: pyparsing>=2.2.1 in /Users/xiaoweige/opt/anaconda3/lib/python3.8/site-packages (from matplotlib->lime) (2.4.7)\n",
      "Requirement already satisfied: fonttools>=4.22.0 in /Users/xiaoweige/opt/anaconda3/lib/python3.8/site-packages (from matplotlib->lime) (4.33.3)\n",
      "Requirement already satisfied: python-dateutil>=2.7 in /Users/xiaoweige/opt/anaconda3/lib/python3.8/site-packages (from matplotlib->lime) (2.8.1)\n",
      "Requirement already satisfied: six in /Users/xiaoweige/opt/anaconda3/lib/python3.8/site-packages (from cycler>=0.10->matplotlib->lime) (1.15.0)\n",
      "Requirement already satisfied: decorator>=4.3.0 in /Users/xiaoweige/opt/anaconda3/lib/python3.8/site-packages (from networkx>=2.0->scikit-image>=0.12->lime) (5.0.6)\n",
      "Requirement already satisfied: joblib>=0.11 in /Users/xiaoweige/opt/anaconda3/lib/python3.8/site-packages (from scikit-learn>=0.18->lime) (1.0.1)\n",
      "Requirement already satisfied: threadpoolctl>=2.0.0 in /Users/xiaoweige/opt/anaconda3/lib/python3.8/site-packages (from scikit-learn>=0.18->lime) (2.1.0)\n"
     ]
    }
   ],
   "source": [
    "!pip install lime\n",
    "# basic packages\n",
    "from time import time\n",
    "\n",
    "# basic data processing packages\n",
    "import numpy as np\n",
    "from numpy import random\n",
    "import pandas as pd\n",
    "\n",
    "# plotting packages\n",
    "import matplotlib.pyplot as plt\n",
    "import seaborn as sns\n",
    "from sklearn.metrics import confusion_matrix\n",
    "\n",
    "# machine learning packages\n",
    "import torch\n",
    "import torch.nn as nn\n",
    "import torch.nn.functional as F\n",
    "import torch.optim as optim\n",
    "import os, json\n",
    "import torchvision\n",
    "from torchvision import models, transforms\n",
    "from torch.autograd import Variable\n",
    "\n",
    "# LIME packages\n",
    "import lime\n",
    "from lime import lime_image\n",
    "\n"
   ]
  },
  {
   "cell_type": "markdown",
   "id": "7b1d4761",
   "metadata": {},
   "source": [
    "# Predefined functions"
   ]
  },
  {
   "cell_type": "code",
   "execution_count": 317,
   "id": "fac8cb2f",
   "metadata": {},
   "outputs": [],
   "source": [
    "def single_img_plot(X,y=10):\n",
    "#     X = np.reshape(X, (28,28))\n",
    "    plt.imshow(X)\n",
    "    plt.colorbar()\n",
    "    plt.title('MNIST random check, label %d' %y)\n",
    "    plt.show()"
   ]
  },
  {
   "cell_type": "markdown",
   "id": "624e7ec2",
   "metadata": {},
   "source": [
    "# Loading data"
   ]
  },
  {
   "cell_type": "code",
   "execution_count": 216,
   "id": "31713268",
   "metadata": {},
   "outputs": [
    {
     "name": "stdout",
     "output_type": "stream",
     "text": [
      "Train data dim: (60000, 28, 28) (60000, 1)\n",
      "Test data dim: (10000, 28, 28) (10000, 1)\n"
     ]
    }
   ],
   "source": [
    "train_images_fn = './data/train_images.npy'\n",
    "train_images = np.load(train_images_fn)/255 # normalization\n",
    "train_images = np.reshape(train_images,(len(train_images),28,28)) # reshape for pytorch tensor\n",
    "train_labels_fn = './data/train_labels.npy'\n",
    "train_labels = np.load(train_labels_fn) \n",
    "\n",
    "test_images_fn = './data/test_images.npy'\n",
    "test_images = np.load(test_images_fn)/255 \n",
    "test_images = np.reshape(test_images,(len(test_images),28,28))\n",
    "c_fn = './data/test_labels.npy'\n",
    "test_labels = np.load(test_labels_fn)\n",
    "\n",
    "print('Train data dim:', train_images.shape, train_labels.shape)\n",
    "print('Test data dim:', test_images.shape, test_labels.shape)"
   ]
  },
  {
   "cell_type": "markdown",
   "id": "39ad421d",
   "metadata": {},
   "source": [
    "### Shuffle data"
   ]
  },
  {
   "cell_type": "code",
   "execution_count": 191,
   "id": "2d44a2e6",
   "metadata": {},
   "outputs": [],
   "source": [
    "idx_shuffle = np.arange(len(train_images))\n",
    "random.shuffle(idx_shuffle)\n",
    "train_images = np.array(train_images)[idx_shuffle]\n",
    "train_labels = np.array(train_labels)[idx_shuffle]\n",
    "\n",
    "idx_shuffle = np.arange(len(test_images))\n",
    "random.shuffle(idx_shuffle)\n",
    "test_images = np.array(test_images)[idx_shuffle]\n",
    "test_labels = np.array(test_labels)[idx_shuffle]"
   ]
  },
  {
   "cell_type": "markdown",
   "id": "ebb5975f",
   "metadata": {},
   "source": [
    "### Visualization"
   ]
  },
  {
   "cell_type": "code",
   "execution_count": 214,
   "id": "1db09c4e",
   "metadata": {},
   "outputs": [
    {
     "name": "stdout",
     "output_type": "stream",
     "text": [
      "57226\n"
     ]
    },
    {
     "data": {
      "image/png": "[encoded data removed]",
      "text/plain": [
       "<Figure size 432x288 with 2 Axes>"
      ]
     },
     "metadata": {
      "needs_background": "light"
     },
     "output_type": "display_data"
    }
   ],
   "source": [
    "i = random.randint(len(train_images))\n",
    "single_img_plot(train_images[i],train_labels[i])\n",
    "# print(np.mean(train_images[i]))"
   ]
  },
  {
   "cell_type": "markdown",
   "id": "bae84344",
   "metadata": {},
   "source": [
    "# Arrange Pytorch\n",
    "## Follow LIME on Pytorch tutorial but fail"
   ]
  },
  {
   "cell_type": "markdown",
   "id": "49569470",
   "metadata": {},
   "source": [
    "### Convert image to pytorch tensor"
   ]
  },
  {
   "cell_type": "code",
   "execution_count": 151,
   "id": "31a8c8a1",
   "metadata": {},
   "outputs": [],
   "source": [
    "# transfter np.ndarray to tensor\n",
    "def get_input_transform():\n",
    "    normalize = transforms.Normalize(mean=[0.5, 0.5],\n",
    "                                    std=[0.2, 0.2])       \n",
    "    transf = transforms.Compose([\n",
    "#         transforms.Resize((256, 256)),\n",
    "#         transforms.CenterCrop(224),\n",
    "        transforms.ToTensor(),\n",
    "        normalize\n",
    "    ])    \n",
    "\n",
    "    return transf\n",
    "\n",
    "def get_input_tensors(img):\n",
    "    transf = get_input_transform()\n",
    "    # unsqeeze converts single image to batch of 1\n",
    "    return transf(img).unsqueeze(0)"
   ]
  },
  {
   "cell_type": "markdown",
   "id": "2b65c614",
   "metadata": {},
   "source": [
    "Load the pretrained model for Resnet50 (I tried AlexNet) available in Pytorch."
   ]
  },
  {
   "cell_type": "code",
   "execution_count": 113,
   "id": "60015b42",
   "metadata": {},
   "outputs": [
    {
     "name": "stderr",
     "output_type": "stream",
     "text": [
      "Downloading: \"https://download.pytorch.org/models/alexnet-owt-4df8aa71.pth\" to /Users/xiaoweige/.cache/torch/hub/checkpoints/alexnet-owt-4df8aa71.pth\n"
     ]
    },
    {
     "data": {
      "application/vnd.jupyter.widget-view+json": {
       "model_id": "876f8ad2723f4112a98e8a2b02d54a8d",
       "version_major": 2,
       "version_minor": 0
      },
      "text/plain": [
       "  0%|          | 0.00/233M [00:00<?, ?B/s]"
      ]
     },
     "metadata": {},
     "output_type": "display_data"
    }
   ],
   "source": [
    "# model = models.alexnet(pretrained=True)"
   ]
  },
  {
   "cell_type": "markdown",
   "id": "0ca49c38",
   "metadata": {},
   "source": [
    "Reload data"
   ]
  },
  {
   "cell_type": "code",
   "execution_count": 149,
   "id": "558da9ba",
   "metadata": {},
   "outputs": [
    {
     "name": "stdout",
     "output_type": "stream",
     "text": [
      "{'0': 0, '1': 1, '2': 2, '3': 3, '4': 4, '5': 5, '6': 6, '7': 7, '8': 8, '9': 9}\n"
     ]
    }
   ],
   "source": [
    "idx2label, cls2label, cls2idx = [], {}, {}\n",
    "class_idx = np.arange(0,10)\n",
    "\n",
    "cls2label = {str(class_idx[k]): class_idx[k] for k in range(len(class_idx))}\n",
    "print(cls2label)\n",
    "\n",
    "# with open(os.path.abspath('./data/imagenet_class_index.json'), 'r') as read_file:\n",
    "#     class_idx = json.load(read_file)\n",
    "#     idx2label = [class_idx[str(k)][1] for k in range(len(class_idx))]\n",
    "#     cls2label = {str(class_idx[k]): class_idx[k] for k in range(len(class_idx))}\n",
    "#     cls2idx = {class_idx[str(k)][0]: k for k in range(len(class_idx))} "
   ]
  },
  {
   "cell_type": "markdown",
   "id": "91a61ef6",
   "metadata": {},
   "source": [
    "## Build simple neural network using pytorch on MNIST"
   ]
  },
  {
   "cell_type": "markdown",
   "id": "05fb9e1b",
   "metadata": {},
   "source": [
    "### Hyperparameters"
   ]
  },
  {
   "cell_type": "code",
   "execution_count": 318,
   "id": "a12374c8",
   "metadata": {},
   "outputs": [
    {
     "data": {
      "text/plain": [
       "<torch._C.Generator at 0x7ff3166ee6b0>"
      ]
     },
     "execution_count": 318,
     "metadata": {},
     "output_type": "execute_result"
    }
   ],
   "source": [
    "n_epochs = 3\n",
    "batch_size_train = 64\n",
    "batch_size_test = 1000\n",
    "learning_rate = 0.01\n",
    "momentum = 0.5\n",
    "log_interval = 10\n",
    "\n",
    "random_seed = 1\n",
    "torch.backends.cudnn.enabled = False\n",
    "torch.manual_seed(random_seed)"
   ]
  },
  {
   "cell_type": "markdown",
   "id": "92c4c9f6",
   "metadata": {},
   "source": [
    "### Convert np array to tensor (not used)\n",
    "(seems hard to be consistent with the following codes)"
   ]
  },
  {
   "cell_type": "code",
   "execution_count": 271,
   "id": "42319b3f",
   "metadata": {},
   "outputs": [
    {
     "name": "stdout",
     "output_type": "stream",
     "text": [
      "The dimension of the tensor is:  torch.Size([60000, 1, 28, 28])\n"
     ]
    },
    {
     "data": {
      "image/png": "[encoded data removed]",
      "text/plain": [
       "<Figure size 432x288 with 2 Axes>"
      ]
     },
     "metadata": {
      "needs_background": "light"
     },
     "output_type": "display_data"
    },
    {
     "name": "stdout",
     "output_type": "stream",
     "text": [
      "Output tensor mean check:  tensor(-0.0001, dtype=torch.float64)\n",
      "Output tensor length check:  60000\n"
     ]
    }
   ],
   "source": [
    "# transfter np.ndarray to tensor\n",
    "def get_input_transform():\n",
    "    normalize = transforms.Normalize(mean = 0.1307, std = 0.3081)    # global mean and standard deviation   \n",
    "    transf = transforms.Compose([\n",
    "#         transforms.Resize((28, 28)),\n",
    "#         transforms.CenterCrop(224),\n",
    "        transforms.ToTensor(),\n",
    "        normalize\n",
    "    ])    \n",
    "\n",
    "    return transf\n",
    "\n",
    "def get_input_tensors(img):\n",
    "    transf = get_input_transform()\n",
    "    # unsqeeze converts single image to batch of 1\n",
    "    return transf(img).unsqueeze(0)\n",
    "    return transf(img)\n",
    "\n",
    "# print(train_images.shape)\n",
    "\n",
    "train_images_tensors = get_input_tensors(train_images)\n",
    "# it is weird that after transfering nparray to tensor, the dimension fliped and swopped\n",
    "train_images_tensors = train_images_tensors.permute(2,0,1,3)\n",
    "train_images_tensors = train_images_tensors.flip(3)\n",
    "\n",
    "print('The dimension of the tensor is: ', train_images_tensors.shape)\n",
    "\n",
    "single_img_plot(np.squeeze(train_images_tensors[i,:,:,:]),train_labels[i])\n",
    "\n",
    "# check the mean\n",
    "print('Output tensor mean check: ', torch.mean(train_images_tensors,dim = [0,1,2,3]))\n",
    "\n",
    "print('Output tensor length check: ', len(train_images_tensors))"
   ]
  },
  {
   "cell_type": "markdown",
   "id": "7a127b3f",
   "metadata": {},
   "source": [
    "### Use Pytorch data loader to load MNIST data"
   ]
  },
  {
   "cell_type": "code",
   "execution_count": 396,
   "id": "34c060aa",
   "metadata": {},
   "outputs": [
    {
     "data": {
      "text/plain": [
       "<torch._C.Generator at 0x7ff3166ee6b0>"
      ]
     },
     "execution_count": 396,
     "metadata": {},
     "output_type": "execute_result"
    }
   ],
   "source": [
    "# n_epochs = 1\n",
    "batch_size_train = 64\n",
    "batch_size_test = 1000\n",
    "learning_rate = 0.01\n",
    "momentum = 0.5\n",
    "log_interval = 10\n",
    "\n",
    "random_seed = 1\n",
    "torch.backends.cudnn.enabled = False\n",
    "torch.manual_seed(random_seed)"
   ]
  },
  {
   "cell_type": "code",
   "execution_count": 341,
   "id": "c5fc3d8d",
   "metadata": {},
   "outputs": [],
   "source": [
    "# download and transform train dataset\n",
    "\n",
    "from torchvision import datasets, transforms\n",
    "from torch.autograd import Variable\n",
    "\n",
    "train_loader = torch.utils.data.DataLoader(datasets.MNIST(root = './', \n",
    "                                                          download=True, \n",
    "                                                          train=True,\n",
    "                                                          transform=transforms.Compose([\n",
    "                                                              transforms.ToTensor(), # first, convert image to PyTorch tensor\n",
    "                                                              transforms.Normalize((0.1307,), (0.3081,)) # normalize inputs\n",
    "                                                          ])), \n",
    "                                           batch_size=batch_size_train,\n",
    "                                           shuffle=True)\n",
    "\n",
    "\n",
    "test_loader = torch.utils.data.DataLoader(datasets.MNIST(root = './', \n",
    "                                                          download=True, \n",
    "                                                          train=False,\n",
    "                                                          transform=transforms.Compose([\n",
    "                                                              transforms.ToTensor(), # first, convert image to PyTorch tensor\n",
    "                                                              transforms.Normalize((0.1307,), (0.3081,)) # normalize inputs\n",
    "                                                          ])), \n",
    "                                           batch_size=batch_size_test,\n",
    "                                           shuffle=True)\n",
    "\n",
    "\n"
   ]
  },
  {
   "cell_type": "markdown",
   "id": "9a6532f1",
   "metadata": {},
   "source": [
    "### Data check plot"
   ]
  },
  {
   "cell_type": "code",
   "execution_count": 350,
   "id": "7703c19a",
   "metadata": {},
   "outputs": [
    {
     "name": "stdout",
     "output_type": "stream",
     "text": [
      "Output tensor size check:  torch.Size([64, 1, 28, 28])\n"
     ]
    }
   ],
   "source": [
    "examples = enumerate(train_loader)\n",
    "batch_idx, (example_data, example_targets) = next(examples)\n",
    "print('Output tensor size check: ', example_data.shape)"
   ]
  },
  {
   "cell_type": "code",
   "execution_count": 366,
   "id": "62d715bc",
   "metadata": {
    "scrolled": true
   },
   "outputs": [
    {
     "data": {
      "image/png": "[encoded data removed]",
      "text/plain": [
       "<Figure size 432x288 with 4 Axes>"
      ]
     },
     "metadata": {},
     "output_type": "display_data"
    }
   ],
   "source": [
    "fig = plt.figure()\n",
    "for i in range(4):\n",
    "    idx_rand = random.randint(len(example_data))\n",
    "    plt.subplot(1,4,i+1)\n",
    "    plt.tight_layout()\n",
    "    plt.imshow(example_data[idx_rand][0], cmap='gray', interpolation='none')\n",
    "    plt.title(\"Ground Truth: {}\".format(example_targets[idx_rand]))\n",
    "    plt.xticks([])\n",
    "    plt.yticks([])\n"
   ]
  },
  {
   "cell_type": "markdown",
   "id": "e4380dc0",
   "metadata": {},
   "source": [
    "### Build 2D CNN + 2 fully connected layer networks"
   ]
  },
  {
   "cell_type": "code",
   "execution_count": 397,
   "id": "30a51143",
   "metadata": {},
   "outputs": [],
   "source": [
    "class Net(nn.Module):\n",
    "    def __init__(self):\n",
    "        super(Net, self).__init__()\n",
    "        self.conv1 = nn.Conv2d(1, 10, kernel_size=5)\n",
    "        self.conv2 = nn.Conv2d(10, 20, kernel_size=5)\n",
    "        self.conv2_drop = nn.Dropout2d()\n",
    "        self.fc1 = nn.Linear(320, 50)\n",
    "        self.fc2 = nn.Linear(50, 10)\n",
    "\n",
    "    def forward(self, x):\n",
    "        x = F.relu(F.max_pool2d(self.conv1(x), 2))\n",
    "        x = F.relu(F.max_pool2d(self.conv2_drop(self.conv2(x)), 2))\n",
    "        x = x.view(-1, 320)\n",
    "        x = F.relu(self.fc1(x))\n",
    "        x = F.dropout(x, training=self.training)\n",
    "        x = self.fc2(x)\n",
    "        return F.log_softmax(x)"
   ]
  },
  {
   "cell_type": "code",
   "execution_count": 398,
   "id": "34829eb7",
   "metadata": {},
   "outputs": [],
   "source": [
    "network = Net()\n",
    "optimizer = optim.SGD(network.parameters(), lr=learning_rate,\n",
    "                      momentum=momentum)"
   ]
  },
  {
   "cell_type": "markdown",
   "id": "ac8a9a1f",
   "metadata": {},
   "source": [
    "### Train the model"
   ]
  },
  {
   "cell_type": "code",
   "execution_count": 377,
   "id": "4737a9c1",
   "metadata": {},
   "outputs": [],
   "source": [
    "def train(epoch):\n",
    "  network.train()\n",
    "  for batch_idx, (data, target) in enumerate(train_loader):\n",
    "    optimizer.zero_grad()\n",
    "    output = network(data)\n",
    "    loss = F.nll_loss(output, target)\n",
    "    loss.backward()\n",
    "    optimizer.step()\n",
    "    if batch_idx % log_interval == 0:\n",
    "      print('Train Epoch: {} [{}/{} ({:.0f}%)]\\tLoss: {:.6f}'.format(\n",
    "        epoch, batch_idx * len(data), len(train_loader.dataset),\n",
    "        100. * batch_idx / len(train_loader), loss.item()))\n",
    "      train_losses.append(loss.item())\n",
    "      train_counter.append(\n",
    "        (batch_idx*64) + ((epoch-1)*len(train_loader.dataset)))\n",
    "      torch.save(network.state_dict(), './results/model.pth')\n",
    "      torch.save(optimizer.state_dict(), './results/optimizer.pth')"
   ]
  },
  {
   "cell_type": "code",
   "execution_count": 378,
   "id": "c7550a38",
   "metadata": {},
   "outputs": [],
   "source": [
    "def test():\n",
    "  network.eval()\n",
    "  test_loss = 0\n",
    "  correct = 0\n",
    "  with torch.no_grad():\n",
    "    for data, target in test_loader:\n",
    "      output = network(data)\n",
    "      test_loss += F.nll_loss(output, target, size_average=False).item()\n",
    "      pred = output.data.max(1, keepdim=True)[1]\n",
    "      correct += pred.eq(target.data.view_as(pred)).sum()\n",
    "  test_loss /= len(test_loader.dataset)\n",
    "  test_losses.append(test_loss)\n",
    "  print('\\nTest set: Avg. loss: {:.4f}, Accuracy: {}/{} ({:.0f}%)\\n'.format(\n",
    "    test_loss, correct, len(test_loader.dataset),\n",
    "    100. * correct / len(test_loader.dataset)))"
   ]
  },
  {
   "cell_type": "code",
   "execution_count": 403,
   "id": "85eb69f3",
   "metadata": {},
   "outputs": [],
   "source": [
    "n_epochs = 1\n",
    "network = Net()\n",
    "optimizer = optim.SGD(network.parameters(), lr=learning_rate,\n",
    "                      momentum=momentum)\n",
    "\n",
    "train_losses = []\n",
    "train_counter = []\n",
    "test_losses = []\n",
    "test_counter = [i*len(train_loader.dataset) for i in range(n_epochs + 1)]"
   ]
  },
  {
   "cell_type": "code",
   "execution_count": 404,
   "id": "fee2a4c5",
   "metadata": {},
   "outputs": [
    {
     "name": "stderr",
     "output_type": "stream",
     "text": [
      "<ipython-input-397-6c2218f37724>:17: UserWarning: Implicit dimension choice for log_softmax has been deprecated. Change the call to include dim=X as an argument.\n",
      "  return F.log_softmax(x)\n"
     ]
    },
    {
     "name": "stdout",
     "output_type": "stream",
     "text": [
      "\n",
      "Test set: Avg. loss: 2.3053, Accuracy: 1175/10000 (12%)\n",
      "\n",
      "Train Epoch: 1 [0/60000 (0%)]\tLoss: 2.345277\n",
      "Train Epoch: 1 [640/60000 (1%)]\tLoss: 2.314412\n",
      "Train Epoch: 1 [1280/60000 (2%)]\tLoss: 2.293312\n",
      "Train Epoch: 1 [1920/60000 (3%)]\tLoss: 2.247632\n",
      "Train Epoch: 1 [2560/60000 (4%)]\tLoss: 2.299362\n",
      "Train Epoch: 1 [3200/60000 (5%)]\tLoss: 2.244425\n",
      "Train Epoch: 1 [3840/60000 (6%)]\tLoss: 2.267763\n",
      "Train Epoch: 1 [4480/60000 (7%)]\tLoss: 2.238738\n",
      "Train Epoch: 1 [5120/60000 (9%)]\tLoss: 2.171534\n",
      "Train Epoch: 1 [5760/60000 (10%)]\tLoss: 2.226693\n",
      "Train Epoch: 1 [6400/60000 (11%)]\tLoss: 2.115720\n",
      "Train Epoch: 1 [7040/60000 (12%)]\tLoss: 2.037859\n",
      "Train Epoch: 1 [7680/60000 (13%)]\tLoss: 2.020355\n",
      "Train Epoch: 1 [8320/60000 (14%)]\tLoss: 1.915638\n",
      "Train Epoch: 1 [8960/60000 (15%)]\tLoss: 1.821012\n",
      "Train Epoch: 1 [9600/60000 (16%)]\tLoss: 1.457798\n",
      "Train Epoch: 1 [10240/60000 (17%)]\tLoss: 1.553698\n",
      "Train Epoch: 1 [10880/60000 (18%)]\tLoss: 1.561154\n",
      "Train Epoch: 1 [11520/60000 (19%)]\tLoss: 1.305184\n",
      "Train Epoch: 1 [12160/60000 (20%)]\tLoss: 1.362505\n",
      "Train Epoch: 1 [12800/60000 (21%)]\tLoss: 1.253306\n",
      "Train Epoch: 1 [13440/60000 (22%)]\tLoss: 1.358495\n",
      "Train Epoch: 1 [14080/60000 (23%)]\tLoss: 1.097980\n",
      "Train Epoch: 1 [14720/60000 (25%)]\tLoss: 1.027718\n",
      "Train Epoch: 1 [15360/60000 (26%)]\tLoss: 0.943208\n",
      "Train Epoch: 1 [16000/60000 (27%)]\tLoss: 1.161401\n",
      "Train Epoch: 1 [16640/60000 (28%)]\tLoss: 0.989183\n",
      "Train Epoch: 1 [17280/60000 (29%)]\tLoss: 1.027254\n",
      "Train Epoch: 1 [17920/60000 (30%)]\tLoss: 1.091840\n",
      "Train Epoch: 1 [18560/60000 (31%)]\tLoss: 0.957505\n",
      "Train Epoch: 1 [19200/60000 (32%)]\tLoss: 0.870298\n",
      "Train Epoch: 1 [19840/60000 (33%)]\tLoss: 0.804681\n",
      "Train Epoch: 1 [20480/60000 (34%)]\tLoss: 0.825291\n",
      "Train Epoch: 1 [21120/60000 (35%)]\tLoss: 0.854563\n",
      "Train Epoch: 1 [21760/60000 (36%)]\tLoss: 0.887795\n",
      "Train Epoch: 1 [22400/60000 (37%)]\tLoss: 0.776527\n",
      "Train Epoch: 1 [23040/60000 (38%)]\tLoss: 1.089295\n",
      "Train Epoch: 1 [23680/60000 (39%)]\tLoss: 0.633067\n",
      "Train Epoch: 1 [24320/60000 (41%)]\tLoss: 0.761420\n",
      "Train Epoch: 1 [24960/60000 (42%)]\tLoss: 0.660597\n",
      "Train Epoch: 1 [25600/60000 (43%)]\tLoss: 0.790565\n",
      "Train Epoch: 1 [26240/60000 (44%)]\tLoss: 0.664634\n",
      "Train Epoch: 1 [26880/60000 (45%)]\tLoss: 0.574512\n",
      "Train Epoch: 1 [27520/60000 (46%)]\tLoss: 0.934676\n",
      "Train Epoch: 1 [28160/60000 (47%)]\tLoss: 0.997992\n",
      "Train Epoch: 1 [28800/60000 (48%)]\tLoss: 0.640900\n",
      "Train Epoch: 1 [29440/60000 (49%)]\tLoss: 0.578632\n",
      "Train Epoch: 1 [30080/60000 (50%)]\tLoss: 0.663658\n",
      "Train Epoch: 1 [30720/60000 (51%)]\tLoss: 0.625241\n",
      "Train Epoch: 1 [31360/60000 (52%)]\tLoss: 0.557605\n",
      "Train Epoch: 1 [32000/60000 (53%)]\tLoss: 0.853177\n",
      "Train Epoch: 1 [32640/60000 (54%)]\tLoss: 0.596672\n",
      "Train Epoch: 1 [33280/60000 (55%)]\tLoss: 0.751852\n",
      "Train Epoch: 1 [33920/60000 (57%)]\tLoss: 0.663186\n",
      "Train Epoch: 1 [34560/60000 (58%)]\tLoss: 0.642773\n",
      "Train Epoch: 1 [35200/60000 (59%)]\tLoss: 0.641995\n",
      "Train Epoch: 1 [35840/60000 (60%)]\tLoss: 0.516535\n",
      "Train Epoch: 1 [36480/60000 (61%)]\tLoss: 0.819866\n",
      "Train Epoch: 1 [37120/60000 (62%)]\tLoss: 0.666958\n",
      "Train Epoch: 1 [37760/60000 (63%)]\tLoss: 0.913386\n",
      "Train Epoch: 1 [38400/60000 (64%)]\tLoss: 0.510728\n",
      "Train Epoch: 1 [39040/60000 (65%)]\tLoss: 0.759959\n",
      "Train Epoch: 1 [39680/60000 (66%)]\tLoss: 0.567402\n",
      "Train Epoch: 1 [40320/60000 (67%)]\tLoss: 0.692651\n",
      "Train Epoch: 1 [40960/60000 (68%)]\tLoss: 0.655788\n",
      "Train Epoch: 1 [41600/60000 (69%)]\tLoss: 0.853868\n",
      "Train Epoch: 1 [42240/60000 (70%)]\tLoss: 0.735615\n",
      "Train Epoch: 1 [42880/60000 (71%)]\tLoss: 0.508419\n",
      "Train Epoch: 1 [43520/60000 (72%)]\tLoss: 0.491022\n",
      "Train Epoch: 1 [44160/60000 (74%)]\tLoss: 0.584040\n",
      "Train Epoch: 1 [44800/60000 (75%)]\tLoss: 0.515115\n",
      "Train Epoch: 1 [45440/60000 (76%)]\tLoss: 0.819225\n",
      "Train Epoch: 1 [46080/60000 (77%)]\tLoss: 0.290087\n",
      "Train Epoch: 1 [46720/60000 (78%)]\tLoss: 0.541937\n",
      "Train Epoch: 1 [47360/60000 (79%)]\tLoss: 0.556613\n",
      "Train Epoch: 1 [48000/60000 (80%)]\tLoss: 0.819622\n",
      "Train Epoch: 1 [48640/60000 (81%)]\tLoss: 0.390357\n",
      "Train Epoch: 1 [49280/60000 (82%)]\tLoss: 0.927855\n",
      "Train Epoch: 1 [49920/60000 (83%)]\tLoss: 0.450185\n",
      "Train Epoch: 1 [50560/60000 (84%)]\tLoss: 0.418398\n",
      "Train Epoch: 1 [51200/60000 (85%)]\tLoss: 0.565654\n",
      "Train Epoch: 1 [51840/60000 (86%)]\tLoss: 0.362688\n",
      "Train Epoch: 1 [52480/60000 (87%)]\tLoss: 0.571269\n",
      "Train Epoch: 1 [53120/60000 (88%)]\tLoss: 0.457881\n",
      "Train Epoch: 1 [53760/60000 (90%)]\tLoss: 0.685467\n",
      "Train Epoch: 1 [54400/60000 (91%)]\tLoss: 1.023026\n",
      "Train Epoch: 1 [55040/60000 (92%)]\tLoss: 0.737356\n",
      "Train Epoch: 1 [55680/60000 (93%)]\tLoss: 0.705025\n",
      "Train Epoch: 1 [56320/60000 (94%)]\tLoss: 0.737099\n",
      "Train Epoch: 1 [56960/60000 (95%)]\tLoss: 0.459873\n",
      "Train Epoch: 1 [57600/60000 (96%)]\tLoss: 0.688306\n",
      "Train Epoch: 1 [58240/60000 (97%)]\tLoss: 0.657590\n",
      "Train Epoch: 1 [58880/60000 (98%)]\tLoss: 0.510293\n",
      "Train Epoch: 1 [59520/60000 (99%)]\tLoss: 0.696970\n",
      "\n",
      "Test set: Avg. loss: 0.2233, Accuracy: 9352/10000 (94%)\n",
      "\n"
     ]
    }
   ],
   "source": [
    "test()\n",
    "for epoch in range(1, n_epochs + 1):\n",
    "  train(epoch)\n",
    "  test()"
   ]
  },
  {
   "cell_type": "code",
   "execution_count": 405,
   "id": "9600f11d",
   "metadata": {
    "scrolled": false
   },
   "outputs": [
    {
     "data": {
      "text/plain": [
       "Text(0, 0.5, 'negative log likelihood loss')"
      ]
     },
     "execution_count": 405,
     "metadata": {},
     "output_type": "execute_result"
    },
    {
     "data": {
      "image/png": "[encoded data removed]",
      "text/plain": [
       "<Figure size 432x288 with 1 Axes>"
      ]
     },
     "metadata": {
      "needs_background": "light"
     },
     "output_type": "display_data"
    }
   ],
   "source": [
    "fig = plt.figure()\n",
    "plt.plot(train_counter, train_losses, color='blue')\n",
    "plt.scatter(test_counter, test_losses, color='red')\n",
    "plt.legend(['Train Loss', 'Test Loss'], loc='upper right')\n",
    "plt.xlabel('number of training examples seen')\n",
    "plt.ylabel('negative log likelihood loss')"
   ]
  },
  {
   "cell_type": "code",
   "execution_count": null,
   "id": "3a14adf8",
   "metadata": {},
   "outputs": [],
   "source": [
    "for data, target in test_loader:\n",
    "      output = network(data)\n",
    "output_idx = torch.argmax(output,dim=1)\n",
    "\n",
    "cf_mat = confusion_matrix(target,output_idx)\n",
    "sns.set(font_scale=1)\n",
    "sns.heatmap(cf_mat,annot = True,cmap = 'YlGnBu', fmt='d', \n",
    "            xticklabels = np.arange(0,10), yticklabels = np.arange(0,10))\n",
    "\n",
    "sns.reset_orig"
   ]
  },
  {
   "cell_type": "code",
   "execution_count": 387,
   "id": "179ef50e",
   "metadata": {
    "scrolled": true
   },
   "outputs": [
    {
     "name": "stdout",
     "output_type": "stream",
     "text": [
      "[0.09502839431762695, 0.08068327331542968]\n",
      "[0, 60000, 120000, 180000]\n"
     ]
    }
   ],
   "source": []
  }
 ],
 "metadata": {
  "kernelspec": {
   "display_name": "Python 3",
   "language": "python",
   "name": "python3"
  },
  "language_info": {
   "codemirror_mode": {
    "name": "ipython",
    "version": 3
   },
   "file_extension": ".py",
   "mimetype": "text/x-python",
   "name": "python",
   "nbconvert_exporter": "python",
   "pygments_lexer": "ipython3",
   "version": "3.8.8"
  }
 },
 "nbformat": 4,
 "nbformat_minor": 5
}
