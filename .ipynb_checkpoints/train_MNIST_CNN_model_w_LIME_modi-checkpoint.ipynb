{
 "cells": [
  {
   "cell_type": "markdown",
   "id": "dd897f2b",
   "metadata": {},
   "source": [
    "# Packages"
   ]
  },
  {
   "cell_type": "code",
   "execution_count": 18,
   "id": "b119aba8",
   "metadata": {},
   "outputs": [
    {
     "name": "stdout",
     "output_type": "stream",
     "text": [
      "Requirement already satisfied: lime in /Users/xiaoweige/opt/anaconda3/lib/python3.8/site-packages (0.2.0.1)\n",
      "Requirement already satisfied: scikit-image>=0.12 in /Users/xiaoweige/opt/anaconda3/lib/python3.8/site-packages (from lime) (0.18.1)\n",
      "Requirement already satisfied: tqdm in /Users/xiaoweige/opt/anaconda3/lib/python3.8/site-packages (from lime) (4.59.0)\n",
      "Requirement already satisfied: scikit-learn>=0.18 in /Users/xiaoweige/opt/anaconda3/lib/python3.8/site-packages (from lime) (0.24.1)\n",
      "Requirement already satisfied: matplotlib in /Users/xiaoweige/opt/anaconda3/lib/python3.8/site-packages (from lime) (3.5.2)\n",
      "Requirement already satisfied: numpy in /Users/xiaoweige/opt/anaconda3/lib/python3.8/site-packages (from lime) (1.20.1)\n",
      "Requirement already satisfied: scipy in /Users/xiaoweige/opt/anaconda3/lib/python3.8/site-packages (from lime) (1.6.2)\n",
      "Requirement already satisfied: networkx>=2.0 in /Users/xiaoweige/opt/anaconda3/lib/python3.8/site-packages (from scikit-image>=0.12->lime) (2.5)\n",
      "Requirement already satisfied: pillow!=7.1.0,!=7.1.1,>=4.3.0 in /Users/xiaoweige/opt/anaconda3/lib/python3.8/site-packages (from scikit-image>=0.12->lime) (8.2.0)\n",
      "Requirement already satisfied: imageio>=2.3.0 in /Users/xiaoweige/opt/anaconda3/lib/python3.8/site-packages (from scikit-image>=0.12->lime) (2.9.0)\n",
      "Requirement already satisfied: tifffile>=2019.7.26 in /Users/xiaoweige/opt/anaconda3/lib/python3.8/site-packages (from scikit-image>=0.12->lime) (2020.10.1)\n",
      "Requirement already satisfied: PyWavelets>=1.1.1 in /Users/xiaoweige/opt/anaconda3/lib/python3.8/site-packages (from scikit-image>=0.12->lime) (1.1.1)\n",
      "Requirement already satisfied: packaging>=20.0 in /Users/xiaoweige/opt/anaconda3/lib/python3.8/site-packages (from matplotlib->lime) (20.9)\n",
      "Requirement already satisfied: cycler>=0.10 in /Users/xiaoweige/opt/anaconda3/lib/python3.8/site-packages (from matplotlib->lime) (0.10.0)\n",
      "Requirement already satisfied: pyparsing>=2.2.1 in /Users/xiaoweige/opt/anaconda3/lib/python3.8/site-packages (from matplotlib->lime) (2.4.7)\n",
      "Requirement already satisfied: python-dateutil>=2.7 in /Users/xiaoweige/opt/anaconda3/lib/python3.8/site-packages (from matplotlib->lime) (2.8.1)\n",
      "Requirement already satisfied: kiwisolver>=1.0.1 in /Users/xiaoweige/opt/anaconda3/lib/python3.8/site-packages (from matplotlib->lime) (1.3.1)\n",
      "Requirement already satisfied: fonttools>=4.22.0 in /Users/xiaoweige/opt/anaconda3/lib/python3.8/site-packages (from matplotlib->lime) (4.33.3)\n",
      "Requirement already satisfied: six in /Users/xiaoweige/opt/anaconda3/lib/python3.8/site-packages (from cycler>=0.10->matplotlib->lime) (1.15.0)\n",
      "Requirement already satisfied: decorator>=4.3.0 in /Users/xiaoweige/opt/anaconda3/lib/python3.8/site-packages (from networkx>=2.0->scikit-image>=0.12->lime) (5.0.6)\n",
      "Requirement already satisfied: threadpoolctl>=2.0.0 in /Users/xiaoweige/opt/anaconda3/lib/python3.8/site-packages (from scikit-learn>=0.18->lime) (2.1.0)\n",
      "Requirement already satisfied: joblib>=0.11 in /Users/xiaoweige/opt/anaconda3/lib/python3.8/site-packages (from scikit-learn>=0.18->lime) (1.0.1)\n"
     ]
    }
   ],
   "source": [
    "!pip install lime\n",
    "# basic packages\n",
    "from time import time\n",
    "\n",
    "# basic data processing packages\n",
    "import numpy as np\n",
    "from numpy import random\n",
    "import pandas as pd\n",
    "\n",
    "# plotting packages\n",
    "import matplotlib.pyplot as plt\n",
    "import seaborn as sns\n",
    "from sklearn.metrics import confusion_matrix\n",
    "\n",
    "# machine learning packages\n",
    "import torch\n",
    "import torch.nn as nn\n",
    "import torch.nn.functional as F\n",
    "import torch.optim as optim\n",
    "import os, json\n",
    "import torchvision\n",
    "from torchvision import models, transforms\n",
    "from torch.autograd import Variable"
   ]
  },
  {
   "cell_type": "markdown",
   "id": "7b1d4761",
   "metadata": {},
   "source": [
    "# Predefined functions"
   ]
  },
  {
   "cell_type": "code",
   "execution_count": 19,
   "id": "fac8cb2f",
   "metadata": {},
   "outputs": [],
   "source": [
    "def single_img_plot(X,y=10):\n",
    "#     X = np.reshape(X, (28,28))\n",
    "    plt.imshow(X)\n",
    "    plt.colorbar()\n",
    "    plt.title('MNIST random check, label %d' %y)\n",
    "    plt.show()"
   ]
  },
  {
   "cell_type": "markdown",
   "id": "91a61ef6",
   "metadata": {},
   "source": [
    "# Build neural network using pytorch on MNIST"
   ]
  },
  {
   "cell_type": "code",
   "execution_count": 20,
   "id": "8167295f",
   "metadata": {},
   "outputs": [
    {
     "data": {
      "text/plain": [
       "<torch._C.Generator at 0x7f8c3e1180d0>"
      ]
     },
     "execution_count": 20,
     "metadata": {},
     "output_type": "execute_result"
    }
   ],
   "source": [
    "# n_epochs = 1\n",
    "batch_size_train = 64\n",
    "batch_size_test = 1000\n",
    "learning_rate = 0.01\n",
    "momentum = 0.5\n",
    "log_interval = 10\n",
    "\n",
    "random_seed = 1\n",
    "torch.backends.cudnn.enabled = False\n",
    "torch.manual_seed(random_seed)"
   ]
  },
  {
   "cell_type": "markdown",
   "id": "7a127b3f",
   "metadata": {},
   "source": [
    "### Use Pytorch data loader to load MNIST data"
   ]
  },
  {
   "cell_type": "code",
   "execution_count": 21,
   "id": "c5fc3d8d",
   "metadata": {},
   "outputs": [],
   "source": [
    "# download and transform train dataset\n",
    "\n",
    "from torchvision import datasets, transforms\n",
    "from torch.autograd import Variable\n",
    "\n",
    "train_loader = torch.utils.data.DataLoader(datasets.MNIST(root = './', \n",
    "                                                          download=True, \n",
    "                                                          train=True,\n",
    "                                                          transform=transforms.Compose([\n",
    "                                                              transforms.ToTensor(), # first, convert image to PyTorch tensor\n",
    "                                                              transforms.Normalize((0.1307,), (0.3081,)) # normalize inputs\n",
    "                                                          ])), \n",
    "                                           batch_size=batch_size_train,\n",
    "                                           shuffle=True)\n",
    "\n",
    "\n",
    "test_loader = torch.utils.data.DataLoader(datasets.MNIST(root = './', \n",
    "                                                          download=True, \n",
    "                                                          train=False,\n",
    "                                                          transform=transforms.Compose([\n",
    "                                                              transforms.ToTensor(), # first, convert image to PyTorch tensor\n",
    "                                                              transforms.Normalize((0.1307,), (0.3081,)) # normalize inputs\n",
    "                                                          ])), \n",
    "                                           batch_size=batch_size_test,\n",
    "                                           shuffle=True)\n",
    "\n",
    "train_loader_whole = torch.utils.data.DataLoader(datasets.MNIST(root = './', \n",
    "                                                          download=True, \n",
    "                                                          train=True,\n",
    "                                                          transform=transforms.Compose([\n",
    "                                                              transforms.ToTensor(), # first, convert image to PyTorch tensor\n",
    "                                                              transforms.Normalize((0.1307,), (0.3081,)) # normalize inputs\n",
    "                                                          ])), \n",
    "                                           batch_size=60000,\n",
    "                                           shuffle=True)\n",
    "\n"
   ]
  },
  {
   "cell_type": "markdown",
   "id": "aebd5e96",
   "metadata": {},
   "source": [
    "### Data check plot"
   ]
  },
  {
   "cell_type": "code",
   "execution_count": 22,
   "id": "7703c19a",
   "metadata": {},
   "outputs": [
    {
     "name": "stdout",
     "output_type": "stream",
     "text": [
      "Output tensor size check:  torch.Size([64, 1, 28, 28])\n"
     ]
    }
   ],
   "source": [
    "examples = enumerate(train_loader)\n",
    "batch_idx, (example_data, example_targets) = next(examples)\n",
    "print('Output tensor size check: ', example_data.shape)"
   ]
  },
  {
   "cell_type": "code",
   "execution_count": 23,
   "id": "62d715bc",
   "metadata": {
    "scrolled": true
   },
   "outputs": [
    {
     "data": {
      "image/png": "[encoded data removed]",
      "text/plain": [
       "<Figure size 432x288 with 4 Axes>"
      ]
     },
     "metadata": {},
     "output_type": "display_data"
    }
   ],
   "source": [
    "fig = plt.figure()\n",
    "for i in range(4):\n",
    "    idx_rand = random.randint(len(example_data))\n",
    "    plt.subplot(1,4,i+1)\n",
    "    plt.tight_layout()\n",
    "    plt.imshow(example_data[idx_rand][0], cmap='gray', interpolation='none')\n",
    "    plt.title(\"Ground Truth: {}\".format(example_targets[idx_rand]))\n",
    "    plt.xticks([])\n",
    "    plt.yticks([])\n"
   ]
  },
  {
   "cell_type": "markdown",
   "id": "e4380dc0",
   "metadata": {},
   "source": [
    "### Build 2 CNN + 2 fully connected layer networks"
   ]
  },
  {
   "cell_type": "code",
   "execution_count": 24,
   "id": "30a51143",
   "metadata": {},
   "outputs": [],
   "source": [
    "# # Model 0\n",
    "# class Net(nn.Module):\n",
    "#     def __init__(self):\n",
    "#         super(Net, self).__init__()\n",
    "#         self.conv1 = nn.Conv2d(1, 10, kernel_size=5)\n",
    "#         self.conv2 = nn.Conv2d(10, 20, kernel_size=5)\n",
    "#         self.conv2_drop = nn.Dropout2d()\n",
    "#         self.fc1 = nn.Linear(320, 50)\n",
    "#         self.fc2 = nn.Linear(50, 10)\n",
    "\n",
    "#     def forward(self, x):\n",
    "#         x = F.relu(F.max_pool2d(self.conv1(x), 2))\n",
    "        \n",
    "# #         x = F.relu(F.max_pool2d(self.conv2_drop(self.conv2(x)), 2))\n",
    "#         x = F.relu(F.max_pool2d(self.conv2(x), 2))\n",
    "    \n",
    "#         x = x.view(-1, 320)\n",
    "#         x = F.relu(self.fc1(x))\n",
    "        \n",
    "# #         x = F.dropout(x, training=self.training)\n",
    "\n",
    "#         x = self.fc2(x)\n",
    "#         return F.log_softmax(x,-1)"
   ]
  },
  {
   "cell_type": "code",
   "execution_count": 25,
   "id": "2dc6b128",
   "metadata": {},
   "outputs": [],
   "source": [
    "# # Model 1\n",
    "# class Net(nn.Module):\n",
    "#     def __init__(self):\n",
    "#         super(Net, self).__init__()\n",
    "#         self.conv1 = nn.Conv2d(1, 10, kernel_size=5)\n",
    "#         self.conv2 = nn.Conv2d(10, 20, kernel_size=5)\n",
    "#         self.conv2_drop = nn.Dropout2d(p=0.2)\n",
    "#         self.fc1 = nn.Linear(320, 50)\n",
    "#         self.fc2 = nn.Linear(50, 10)\n",
    "\n",
    "#     def forward(self, x):\n",
    "#         x = F.relu(F.max_pool2d(self.conv1(x), 2))\n",
    "        \n",
    "#         x = F.relu(F.max_pool2d(self.conv2_drop(self.conv2(x)), 2))\n",
    "# #         x = F.relu(F.max_pool2d(self.conv2(x), 2))\n",
    "    \n",
    "#         x = x.view(-1, 320)\n",
    "#         x = F.relu(self.fc1(x))\n",
    "        \n",
    "#         x = F.dropout(x, training=self.training,p=0.2)\n",
    "\n",
    "#         x = self.fc2(x)\n",
    "#         return F.log_softmax(x,-1)"
   ]
  },
  {
   "cell_type": "code",
   "execution_count": 26,
   "id": "ceef5126",
   "metadata": {},
   "outputs": [],
   "source": [
    "# # Model 2\n",
    "# class Net(nn.Module):\n",
    "#     def __init__(self):\n",
    "#         super(Net, self).__init__()\n",
    "#         self.conv1 = nn.Conv2d(1, 10, kernel_size=3)\n",
    "#         self.conv2 = nn.Conv2d(10, 20, kernel_size=3)\n",
    "#         self.conv2_drop = nn.Dropout2d()\n",
    "#         self.fc1 = nn.Linear(500, 70)\n",
    "#         self.fc2 = nn.Linear(70, 10)\n",
    "\n",
    "#     def forward(self, x):\n",
    "#         x = F.relu(F.max_pool2d(self.conv1(x), 2))\n",
    "        \n",
    "# #         x = F.relu(F.max_pool2d(self.conv2_drop(self.conv2(x)), 2))\n",
    "#         x = F.relu(F.max_pool2d(self.conv2(x), 2))\n",
    "    \n",
    "#         x = x.view(-1, 500)\n",
    "#         x = F.relu(self.fc1(x))\n",
    "        \n",
    "# #         x = F.dropout(x, training=self.training)\n",
    "\n",
    "#         x = self.fc2(x)\n",
    "#         return F.log_softmax(x,-1)"
   ]
  },
  {
   "cell_type": "code",
   "execution_count": 27,
   "id": "068901e2",
   "metadata": {},
   "outputs": [],
   "source": [
    "# # Model 3\n",
    "# class Net(nn.Module):\n",
    "#     def __init__(self):\n",
    "#         super(Net, self).__init__()\n",
    "#         self.conv1 = nn.Conv2d(1, 20, kernel_size=3)\n",
    "#         self.conv2 = nn.Conv2d(20, 20, kernel_size=5)\n",
    "#         self.conv2_drop = nn.Dropout2d()\n",
    "#         self.fc1 = nn.Linear(180, 40)\n",
    "#         self.fc2 = nn.Linear(40, 10)\n",
    "\n",
    "#     def forward(self, x):\n",
    "#         x = F.relu(F.max_pool2d(self.conv1(x), 2))\n",
    "        \n",
    "# #         x = F.relu(F.max_pool2d(self.conv2_drop(self.conv2(x)), 2))\n",
    "#         x = F.relu(F.max_pool2d(self.conv2(x), 3))\n",
    "    \n",
    "#         x = x.view(-1, 180)\n",
    "#         x = F.relu(self.fc1(x))\n",
    "        \n",
    "# #         x = F.dropout(x, training=self.training)\n",
    "\n",
    "#         x = self.fc2(x)\n",
    "#         return F.log_softmax(x,-1)"
   ]
  },
  {
   "cell_type": "code",
   "execution_count": 28,
   "id": "60ce0f8d",
   "metadata": {},
   "outputs": [],
   "source": [
    "# Model 4\n",
    "class Net(nn.Module):\n",
    "    def __init__(self):\n",
    "        super(Net, self).__init__()\n",
    "        self.conv1 = nn.Conv2d(1, 20, kernel_size=5)\n",
    "        self.conv2 = nn.Conv2d(20, 20, kernel_size=5)\n",
    "        self.conv2_drop = nn.Dropout2d()\n",
    "        self.fc1 = nn.Linear(320, 50)\n",
    "        self.fc2 = nn.Linear(50, 10)\n",
    "\n",
    "    def forward(self, x):\n",
    "        x = F.relu(F.max_pool2d(self.conv1(x), 2))\n",
    "        \n",
    "#         x = F.relu(F.max_pool2d(self.conv2_drop(self.conv2(x)), 2))\n",
    "        x = F.relu(F.max_pool2d(self.conv2(x), 2))\n",
    "    \n",
    "        x = x.view(-1, 320)\n",
    "        x = F.relu(self.fc1(x))\n",
    "        \n",
    "#         x = F.dropout(x, training=self.training)\n",
    "\n",
    "        x = self.fc2(x)\n",
    "        return F.log_softmax(x,-1)"
   ]
  },
  {
   "cell_type": "code",
   "execution_count": 29,
   "id": "34829eb7",
   "metadata": {},
   "outputs": [],
   "source": [
    "network = Net()\n",
    "optimizer = optim.SGD(network.parameters(), lr=learning_rate,\n",
    "                      momentum=momentum)"
   ]
  },
  {
   "cell_type": "markdown",
   "id": "ac8a9a1f",
   "metadata": {},
   "source": [
    "### Train the model"
   ]
  },
  {
   "cell_type": "code",
   "execution_count": 30,
   "id": "4737a9c1",
   "metadata": {},
   "outputs": [],
   "source": [
    "def train(epoch):\n",
    "  network.train()\n",
    "  for batch_idx, (data, target) in enumerate(train_loader):\n",
    "    optimizer.zero_grad()\n",
    "    output = network(data)\n",
    "    loss = F.nll_loss(output, target)\n",
    "    loss.backward()\n",
    "    optimizer.step()\n",
    "    if batch_idx % log_interval == 0:\n",
    "      print('Train Epoch: {} [{}/{} ({:.0f}%)]\\tLoss: {:.6f}'.format(\n",
    "        epoch, batch_idx * len(data), len(train_loader.dataset),\n",
    "        100. * batch_idx / len(train_loader), loss.item()))\n",
    "      train_losses.append(loss.item())\n",
    "      train_counter.append(\n",
    "        (batch_idx*64) + ((epoch-1)*len(train_loader.dataset)))\n",
    "      torch.save(network.state_dict(), './results/model.pth')\n",
    "      torch.save(optimizer.state_dict(), './results/optimizer.pth')\n",
    "    \n",
    "def test():\n",
    "  network.eval()\n",
    "  test_loss = 0\n",
    "  correct = 0\n",
    "  with torch.no_grad():\n",
    "    for data, target in test_loader:\n",
    "      output = network(data)\n",
    "      test_loss += F.nll_loss(output, target, reduction='sum').item()\n",
    "      pred = output.data.max(1, keepdim=True)[1]\n",
    "      correct += pred.eq(target.data.view_as(pred)).sum()\n",
    "  test_loss /= len(test_loader.dataset)\n",
    "  test_losses.append(test_loss)\n",
    "  print('\\nTest set: Avg. loss: {:.4f}, Accuracy: {}/{} ({:.0f}%)\\n'.format(\n",
    "    test_loss, correct, len(test_loader.dataset),\n",
    "    100. * correct / len(test_loader.dataset)))\n",
    "  acc = 100. * correct / len(test_loader.dataset)\n",
    "#   return acc"
   ]
  },
  {
   "cell_type": "code",
   "execution_count": 31,
   "id": "85eb69f3",
   "metadata": {},
   "outputs": [
    {
     "name": "stdout",
     "output_type": "stream",
     "text": [
      "\n",
      "Test set: Avg. loss: 2.2999, Accuracy: 1261/10000 (13%)\n",
      "\n",
      "Train Epoch: 1 [0/60000 (0%)]\tLoss: 2.305062\n",
      "Train Epoch: 1 [640/60000 (1%)]\tLoss: 2.252363\n",
      "Train Epoch: 1 [1280/60000 (2%)]\tLoss: 2.206718\n",
      "Train Epoch: 1 [1920/60000 (3%)]\tLoss: 2.141043\n",
      "Train Epoch: 1 [2560/60000 (4%)]\tLoss: 2.043788\n",
      "Train Epoch: 1 [3200/60000 (5%)]\tLoss: 1.970242\n",
      "Train Epoch: 1 [3840/60000 (6%)]\tLoss: 1.617329\n",
      "Train Epoch: 1 [4480/60000 (7%)]\tLoss: 1.270964\n",
      "Train Epoch: 1 [5120/60000 (9%)]\tLoss: 1.017112\n",
      "Train Epoch: 1 [5760/60000 (10%)]\tLoss: 0.843421\n",
      "Train Epoch: 1 [6400/60000 (11%)]\tLoss: 0.790580\n",
      "Train Epoch: 1 [7040/60000 (12%)]\tLoss: 0.481738\n",
      "Train Epoch: 1 [7680/60000 (13%)]\tLoss: 0.566128\n",
      "Train Epoch: 1 [8320/60000 (14%)]\tLoss: 0.546315\n",
      "Train Epoch: 1 [8960/60000 (15%)]\tLoss: 0.616195\n",
      "Train Epoch: 1 [9600/60000 (16%)]\tLoss: 0.453485\n",
      "Train Epoch: 1 [10240/60000 (17%)]\tLoss: 0.251630\n",
      "Train Epoch: 1 [10880/60000 (18%)]\tLoss: 0.448349\n",
      "Train Epoch: 1 [11520/60000 (19%)]\tLoss: 0.336291\n",
      "Train Epoch: 1 [12160/60000 (20%)]\tLoss: 0.524912\n",
      "Train Epoch: 1 [12800/60000 (21%)]\tLoss: 0.409261\n",
      "Train Epoch: 1 [13440/60000 (22%)]\tLoss: 0.177313\n",
      "Train Epoch: 1 [14080/60000 (23%)]\tLoss: 0.163311\n",
      "Train Epoch: 1 [14720/60000 (25%)]\tLoss: 0.361375\n",
      "Train Epoch: 1 [15360/60000 (26%)]\tLoss: 0.258768\n",
      "Train Epoch: 1 [16000/60000 (27%)]\tLoss: 0.428198\n",
      "Train Epoch: 1 [16640/60000 (28%)]\tLoss: 0.294122\n",
      "Train Epoch: 1 [17280/60000 (29%)]\tLoss: 0.283047\n",
      "Train Epoch: 1 [17920/60000 (30%)]\tLoss: 0.338230\n",
      "Train Epoch: 1 [18560/60000 (31%)]\tLoss: 0.398985\n",
      "Train Epoch: 1 [19200/60000 (32%)]\tLoss: 0.332927\n",
      "Train Epoch: 1 [19840/60000 (33%)]\tLoss: 0.273470\n",
      "Train Epoch: 1 [20480/60000 (34%)]\tLoss: 0.354814\n",
      "Train Epoch: 1 [21120/60000 (35%)]\tLoss: 0.296767\n",
      "Train Epoch: 1 [21760/60000 (36%)]\tLoss: 0.296067\n",
      "Train Epoch: 1 [22400/60000 (37%)]\tLoss: 0.340672\n",
      "Train Epoch: 1 [23040/60000 (38%)]\tLoss: 0.167635\n",
      "Train Epoch: 1 [23680/60000 (39%)]\tLoss: 0.248034\n",
      "Train Epoch: 1 [24320/60000 (41%)]\tLoss: 0.424246\n",
      "Train Epoch: 1 [24960/60000 (42%)]\tLoss: 0.323509\n",
      "Train Epoch: 1 [25600/60000 (43%)]\tLoss: 0.239516\n",
      "Train Epoch: 1 [26240/60000 (44%)]\tLoss: 0.131917\n",
      "Train Epoch: 1 [26880/60000 (45%)]\tLoss: 0.223116\n",
      "Train Epoch: 1 [27520/60000 (46%)]\tLoss: 0.333816\n",
      "Train Epoch: 1 [28160/60000 (47%)]\tLoss: 0.179393\n",
      "Train Epoch: 1 [28800/60000 (48%)]\tLoss: 0.227912\n",
      "Train Epoch: 1 [29440/60000 (49%)]\tLoss: 0.261702\n",
      "Train Epoch: 1 [30080/60000 (50%)]\tLoss: 0.231112\n",
      "Train Epoch: 1 [30720/60000 (51%)]\tLoss: 0.230886\n",
      "Train Epoch: 1 [31360/60000 (52%)]\tLoss: 0.246226\n",
      "Train Epoch: 1 [32000/60000 (53%)]\tLoss: 0.297418\n",
      "Train Epoch: 1 [32640/60000 (54%)]\tLoss: 0.273558\n",
      "Train Epoch: 1 [33280/60000 (55%)]\tLoss: 0.183915\n",
      "Train Epoch: 1 [33920/60000 (57%)]\tLoss: 0.205534\n",
      "Train Epoch: 1 [34560/60000 (58%)]\tLoss: 0.219169\n",
      "Train Epoch: 1 [35200/60000 (59%)]\tLoss: 0.190111\n",
      "Train Epoch: 1 [35840/60000 (60%)]\tLoss: 0.069749\n",
      "Train Epoch: 1 [36480/60000 (61%)]\tLoss: 0.153638\n",
      "Train Epoch: 1 [37120/60000 (62%)]\tLoss: 0.239419\n",
      "Train Epoch: 1 [37760/60000 (63%)]\tLoss: 0.105607\n",
      "Train Epoch: 1 [38400/60000 (64%)]\tLoss: 0.250313\n",
      "Train Epoch: 1 [39040/60000 (65%)]\tLoss: 0.124434\n",
      "Train Epoch: 1 [39680/60000 (66%)]\tLoss: 0.152625\n",
      "Train Epoch: 1 [40320/60000 (67%)]\tLoss: 0.160460\n",
      "Train Epoch: 1 [40960/60000 (68%)]\tLoss: 0.117396\n",
      "Train Epoch: 1 [41600/60000 (69%)]\tLoss: 0.186097\n",
      "Train Epoch: 1 [42240/60000 (70%)]\tLoss: 0.065013\n",
      "Train Epoch: 1 [42880/60000 (71%)]\tLoss: 0.248430\n",
      "Train Epoch: 1 [43520/60000 (72%)]\tLoss: 0.173183\n",
      "Train Epoch: 1 [44160/60000 (74%)]\tLoss: 0.127175\n",
      "Train Epoch: 1 [44800/60000 (75%)]\tLoss: 0.284838\n",
      "Train Epoch: 1 [45440/60000 (76%)]\tLoss: 0.118999\n",
      "Train Epoch: 1 [46080/60000 (77%)]\tLoss: 0.126844\n",
      "Train Epoch: 1 [46720/60000 (78%)]\tLoss: 0.102616\n",
      "Train Epoch: 1 [47360/60000 (79%)]\tLoss: 0.146157\n",
      "Train Epoch: 1 [48000/60000 (80%)]\tLoss: 0.245613\n",
      "Train Epoch: 1 [48640/60000 (81%)]\tLoss: 0.090694\n",
      "Train Epoch: 1 [49280/60000 (82%)]\tLoss: 0.126291\n",
      "Train Epoch: 1 [49920/60000 (83%)]\tLoss: 0.132333\n",
      "Train Epoch: 1 [50560/60000 (84%)]\tLoss: 0.146822\n",
      "Train Epoch: 1 [51200/60000 (85%)]\tLoss: 0.123228\n",
      "Train Epoch: 1 [51840/60000 (86%)]\tLoss: 0.117980\n",
      "Train Epoch: 1 [52480/60000 (87%)]\tLoss: 0.154468\n",
      "Train Epoch: 1 [53120/60000 (88%)]\tLoss: 0.294946\n",
      "Train Epoch: 1 [53760/60000 (90%)]\tLoss: 0.136993\n",
      "Train Epoch: 1 [54400/60000 (91%)]\tLoss: 0.123132\n",
      "Train Epoch: 1 [55040/60000 (92%)]\tLoss: 0.076477\n",
      "Train Epoch: 1 [55680/60000 (93%)]\tLoss: 0.075451\n",
      "Train Epoch: 1 [56320/60000 (94%)]\tLoss: 0.221430\n",
      "Train Epoch: 1 [56960/60000 (95%)]\tLoss: 0.188816\n",
      "Train Epoch: 1 [57600/60000 (96%)]\tLoss: 0.138249\n",
      "Train Epoch: 1 [58240/60000 (97%)]\tLoss: 0.140901\n",
      "Train Epoch: 1 [58880/60000 (98%)]\tLoss: 0.059426\n",
      "Train Epoch: 1 [59520/60000 (99%)]\tLoss: 0.079917\n",
      "\n",
      "Test set: Avg. loss: 0.1233, Accuracy: 9641/10000 (96%)\n",
      "\n"
     ]
    }
   ],
   "source": [
    "n_epochs = 1\n",
    "network = Net()\n",
    "optimizer = optim.SGD(network.parameters(), lr=learning_rate,\n",
    "                      momentum=momentum)\n",
    "\n",
    "train_losses = []\n",
    "train_counter = []\n",
    "test_losses = []\n",
    "test_counter = [i*len(train_loader.dataset) for i in range(n_epochs + 1)]\n",
    "\n",
    "test()\n",
    "for epoch in range(1, n_epochs + 1):\n",
    "  train(epoch)\n",
    "  test()"
   ]
  },
  {
   "cell_type": "code",
   "execution_count": 32,
   "id": "c62d9d93",
   "metadata": {
    "scrolled": true
   },
   "outputs": [],
   "source": [
    "# acc_vec = np.zeros(10)\n",
    "# for i in range(0,1):   # to avoid \n",
    "#     n_epochs = 1\n",
    "#     network = Net()\n",
    "#     optimizer = optim.SGD(network.parameters(), lr=learning_rate,\n",
    "#                           momentum=momentum)\n",
    "\n",
    "#     train_losses = []\n",
    "#     train_counter = []\n",
    "#     test_losses = []\n",
    "#     test_counter = [i*len(train_loader.dataset) for i in range(n_epochs + 1)]\n",
    "\n",
    "    \n",
    "#     test()\n",
    "#     for epoch in range(1, n_epochs + 1):\n",
    "#       train(epoch)\n",
    "#       acc_vec[i] = test()\n",
    "# print('mean acc: ', np.mean(acc_vec))"
   ]
  },
  {
   "cell_type": "code",
   "execution_count": 33,
   "id": "4667ae86",
   "metadata": {},
   "outputs": [
    {
     "name": "stdout",
     "output_type": "stream",
     "text": [
      "0.0\n"
     ]
    }
   ],
   "source": [
    "print(np.mean(acc_vec[0]))\n",
    "# del network"
   ]
  },
  {
   "cell_type": "markdown",
   "id": "3a94a83e",
   "metadata": {},
   "source": [
    "### Performance check"
   ]
  },
  {
   "cell_type": "code",
   "execution_count": 34,
   "id": "6676a959",
   "metadata": {
    "scrolled": true
   },
   "outputs": [
    {
     "data": {
      "image/png": "[encoded data removed]",
      "text/plain": [
       "<Figure size 288x216 with 1 Axes>"
      ]
     },
     "metadata": {
      "needs_background": "light"
     },
     "output_type": "display_data"
    }
   ],
   "source": [
    "plt.figure(figsize = (4,3))\n",
    "plt.plot(train_counter, train_losses, color='blue')\n",
    "plt.scatter(test_counter, test_losses, color='red')\n",
    "plt.legend(['Train Loss', 'Test Loss'], loc='upper right')\n",
    "plt.xlabel('number of training examples seen')\n",
    "plt.ylabel('negative log likelihood loss')\n",
    "plt.show()"
   ]
  },
  {
   "cell_type": "code",
   "execution_count": 35,
   "id": "a83a0336",
   "metadata": {
    "scrolled": false
   },
   "outputs": [
    {
     "data": {
      "image/png": "[encoded data removed]",
      "text/plain": [
       "<Figure size 432x288 with 2 Axes>"
      ]
     },
     "metadata": {},
     "output_type": "display_data"
    }
   ],
   "source": [
    "for data, target in test_loader:\n",
    "      output = network(data)\n",
    "output_idx = torch.argmax(output,dim=1)\n",
    "\n",
    "cf_mat = confusion_matrix(target,output_idx)\n",
    "sns.set(font_scale=1)\n",
    "sns.heatmap(cf_mat,annot = True,cmap = 'YlGnBu', fmt='d', \n",
    "            xticklabels = np.arange(0,10), yticklabels = np.arange(0,10))\n",
    "\n",
    "sns.reset_orig()"
   ]
  },
  {
   "cell_type": "code",
   "execution_count": 36,
   "id": "ced839fb",
   "metadata": {},
   "outputs": [
    {
     "name": "stdout",
     "output_type": "stream",
     "text": [
      "torch.Size([1000, 1, 28, 28])\n"
     ]
    },
    {
     "data": {
      "text/plain": [
       "torch.Size([1, 1, 28, 28])"
      ]
     },
     "execution_count": 36,
     "metadata": {},
     "output_type": "execute_result"
    }
   ],
   "source": [
    "print(data.shape)\n",
    "torch.unsqueeze(data[idx_rand],0).shape"
   ]
  },
  {
   "cell_type": "markdown",
   "id": "3735ccc1",
   "metadata": {},
   "source": [
    "# LIME implementation on CNN prediction"
   ]
  },
  {
   "cell_type": "markdown",
   "id": "37ef78ff",
   "metadata": {},
   "source": [
    "### LIME Packages"
   ]
  },
  {
   "cell_type": "code",
   "execution_count": 37,
   "id": "89f826c6",
   "metadata": {},
   "outputs": [],
   "source": [
    "from skimage.segmentation import mark_boundaries\n",
    "import lime\n",
    "from lime import lime_image"
   ]
  },
  {
   "cell_type": "markdown",
   "id": "029aa6e7",
   "metadata": {},
   "source": [
    "### LIM classification functions"
   ]
  },
  {
   "cell_type": "code",
   "execution_count": 38,
   "id": "75e6380e",
   "metadata": {},
   "outputs": [],
   "source": [
    "def batch_predict(data_array):\n",
    "#     data_array = np.zeros([28,28,3])\n",
    "#     data_array\n",
    "#     print('see the change in dim for local variation',data_array.shape)\n",
    "    network.eval()  \n",
    "    data_tests = torch.Tensor(data_array[:,:,:,1]).unsqueeze(1)\n",
    "#     print(data_tests.shape)\n",
    "    output_tests = network(data_tests)\n",
    "#     print(output_tests.shape)\n",
    "    output_probs = F.softmax(output_tests,dim=1)\n",
    "    \n",
    "#     output_probs=torch.transpose(output_probs,0,1)\n",
    "    \n",
    "    return output_probs.detach().numpy()"
   ]
  },
  {
   "cell_type": "code",
   "execution_count": null,
   "id": "6466c1ed",
   "metadata": {},
   "outputs": [],
   "source": [
    "# del data_lime_array"
   ]
  },
  {
   "cell_type": "code",
   "execution_count": null,
   "id": "08f2dd90",
   "metadata": {},
   "outputs": [],
   "source": [
    "# print(network(data[idx_rand]))"
   ]
  },
  {
   "cell_type": "markdown",
   "id": "b5739b22",
   "metadata": {},
   "source": [
    "### LIME"
   ]
  },
  {
   "cell_type": "code",
   "execution_count": null,
   "id": "32e98198",
   "metadata": {},
   "outputs": [],
   "source": [
    "# for data, target in train_loader_whole:\n",
    "#       output = network(data)\n",
    "# output_idx = torch.argmax(output,dim=1)\n",
    "\n",
    "# print(data.shape)"
   ]
  },
  {
   "cell_type": "code",
   "execution_count": null,
   "id": "16351714",
   "metadata": {
    "scrolled": true
   },
   "outputs": [],
   "source": [
    "# for data, target in test_loader:\n",
    "# #       output = network(data)\n",
    "# # output_idx = torch.argmax(output,dim=1)\n",
    "#     data_lime_array = np.array(torch.Tensor(data_test[idx_rand]).unsqueeze(0)).astype('double')\n",
    "#     data_lime_array[:,np.newaxis]\n",
    "#     print(data_lime_array.shape)"
   ]
  },
  {
   "cell_type": "code",
   "execution_count": 42,
   "id": "b7bd2ac7",
   "metadata": {},
   "outputs": [
    {
     "data": {
      "application/vnd.jupyter.widget-view+json": {
       "model_id": "6a4880c4ee194c4c914f146a8fa117a6",
       "version_major": 2,
       "version_minor": 0
      },
      "text/plain": [
       "  0%|          | 0/1000 [00:00<?, ?it/s]"
      ]
     },
     "metadata": {},
     "output_type": "display_data"
    }
   ],
   "source": [
    "idx_rand = random.randint(len(data))\n",
    "\n",
    "explainer = lime_image.LimeImageExplainer()\n",
    "\n",
    "\n",
    "# for data_test, target_test in test_loader:\n",
    "#           output = network(data)\n",
    "# output_idx = torch.argmax(output,dim=1)\n",
    "\n",
    "data_lime_array = np.zeros([28,28,3])\n",
    "\n",
    "data_lime_array[:,:,0] = np.array(torch.Tensor(data[idx_rand]).squeeze(0)).astype('double')\n",
    "data_lime_array[:,:,1] = np.array(torch.Tensor(data[idx_rand]).squeeze(0)).astype('double')\n",
    "data_lime_array[:,:,2] = np.array(torch.Tensor(data[idx_rand]).squeeze(0)).astype('double')\n",
    "\n",
    "\n",
    "# explanation = explainer.explain_instance(torch.Tensor(np.array(data[idx_rand]).astype('double')).unsqueeze(0), \n",
    "explanation = explainer.explain_instance(data_lime_array, \n",
    "                                         batch_predict, # classification function \n",
    "#                                          hide_color=1, \n",
    "                                         top_labels = 10,\n",
    "                                         num_samples=1000) # number of images that will be sent to classification function"
   ]
  },
  {
   "cell_type": "markdown",
   "id": "e4a421f7",
   "metadata": {},
   "source": [
    "### Areas support/against top predictions"
   ]
  },
  {
   "cell_type": "code",
   "execution_count": 44,
   "id": "36b4a6fb",
   "metadata": {
    "scrolled": true
   },
   "outputs": [
    {
     "data": {
      "image/png": "[encoded data removed]",
      "text/plain": [
       "<Figure size 640x480 with 4 Axes>"
      ]
     },
     "metadata": {},
     "output_type": "display_data"
    }
   ],
   "source": [
    "temp, mask = explanation.get_image_and_mask(explanation.top_labels[0], positive_only=True, num_features=1, hide_rest=False)\n",
    "img_boundry1 = mark_boundaries(temp/255.0, mask)\n",
    "img_boundry1[:,:,0]=(img_boundry1[:,:,0]-np.min(img_boundry1[:,:,0]))/(np.max(img_boundry1[:,:,0])-np.min(img_boundry1[:,:,0]))\n",
    "img_boundry1[:,:,2]=(img_boundry1[:,:,2]-np.min(img_boundry1[:,:,2]))/(np.max(img_boundry1[:,:,2])-np.min(img_boundry1[:,:,2]))\n",
    "img_boundry1[:,:,1]=(mask-np.min(mask))/(np.max(mask)-np.min(mask))\n",
    "\n",
    "temp, mask = explanation.get_image_and_mask(explanation.top_labels[9], positive_only=True, num_features=1, hide_rest=False)\n",
    "img_boundry2 = mark_boundaries(temp/255.0, mask)\n",
    "img_boundry2[:,:,0]=(img_boundry2[:,:,0]-np.min(img_boundry2[:,:,0]))/(np.max(img_boundry2[:,:,0])-np.min(img_boundry2[:,:,0]))\n",
    "img_boundry2[:,:,2]=(img_boundry2[:,:,2]-np.min(img_boundry2[:,:,2]))/(np.max(img_boundry2[:,:,2])-np.min(img_boundry2[:,:,2]))\n",
    "img_boundry2[:,:,1]=(mask-np.min(mask))/(np.max(mask)-np.min(mask))\n",
    "\n",
    "output = network(data[idx_rand].unsqueeze(0))\n",
    "output_idx = torch.argmax(output,dim=1)\n",
    "\n",
    "\n",
    "plt.subplot(1,4,1)\n",
    "img_plot_rgb = np.zeros([28,28,3])\n",
    "img_plot = np.array(data[idx_rand].squeeze(0))\n",
    "img_plot_rgb[:,:,2] = (img_plot-np.min(img_plot))/(np.max(img_plot)-np.min(img_plot))\n",
    "plt.imshow(img_plot_rgb)\n",
    "plt.title('Is: %d Pred: %d' % (target[idx_rand], output_idx))\n",
    "plt.axis('off')\n",
    "\n",
    "plt.subplot(1,4,2)\n",
    "img_boundary = np.zeros([28,28,3])\n",
    "img_boundary[:,:,0] = img_boundry1[:,:,0]\n",
    "plt.imshow(img_boundary)\n",
    "plt.title('Predict edge')\n",
    "plt.axis('off')\n",
    "\n",
    "plt.subplot(1,4,3)\n",
    "plt.imshow(img_boundry1)\n",
    "plt.title('Area + predict')\n",
    "plt.axis('off')\n",
    "\n",
    "plt.subplot(1,4,4)\n",
    "plt.imshow(img_boundry2)\n",
    "plt.title('Area - predict')\n",
    "plt.axis('off')\n",
    "        \n",
    "plt.show()\n",
    "\n",
    "\n",
    "\n",
    "##    sometimes the outputs all look the same\n",
    "##    we assume this condition means that LIME did not converge thus can not give a stable important region\n"
   ]
  },
  {
   "cell_type": "code",
   "execution_count": null,
   "id": "05c4720a",
   "metadata": {},
   "outputs": [],
   "source": []
  }
 ],
 "metadata": {
  "kernelspec": {
   "display_name": "Python 3",
   "language": "python",
   "name": "python3"
  },
  "language_info": {
   "codemirror_mode": {
    "name": "ipython",
    "version": 3
   },
   "file_extension": ".py",
   "mimetype": "text/x-python",
   "name": "python",
   "nbconvert_exporter": "python",
   "pygments_lexer": "ipython3",
   "version": "3.8.8"
  }
 },
 "nbformat": 4,
 "nbformat_minor": 5
}
